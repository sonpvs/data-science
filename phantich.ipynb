{
  "nbformat": 4,
  "nbformat_minor": 0,
  "metadata": {
    "colab": {
      "name": "phantich.ipynb",
      "provenance": [],
      "collapsed_sections": [],
      "authorship_tag": "ABX9TyNbuiPM3uokskH9jIw72W2F",
      "include_colab_link": true
    },
    "kernelspec": {
      "name": "python3",
      "display_name": "Python 3"
    },
    "language_info": {
      "name": "python"
    }
  },
  "cells": [
    {
      "cell_type": "markdown",
      "metadata": {
        "id": "view-in-github",
        "colab_type": "text"
      },
      "source": [
        "<a href=\"https://colab.research.google.com/github/sonpvs/data-science/blob/main/phantich.ipynb\" target=\"_parent\"><img src=\"https://colab.research.google.com/assets/colab-badge.svg\" alt=\"Open In Colab\"/></a>"
      ]
    },
    {
      "cell_type": "code",
      "metadata": {
        "id": "bELI4hTUo0Tp"
      },
      "source": [
        "import pandas as pd\n",
        "import numpy as np\n",
        "from scipy.stats import chi2_contingency\n",
        "import seaborn as sns\n",
        "import matplotlib.pyplot as plt\n",
        "%matplotlib inline"
      ],
      "execution_count": 1,
      "outputs": []
    },
    {
      "cell_type": "code",
      "metadata": {
        "colab": {
          "base_uri": "https://localhost:8080/"
        },
        "id": "fmL8WOq1qzgB",
        "outputId": "acbb550f-2072-4f1b-dac0-de6e5bde3db2"
      },
      "source": [
        "# Xác thực ổ đĩa Drive\n",
        "\n",
        "from google.colab import drive\n",
        "drive.mount('drive')"
      ],
      "execution_count": 2,
      "outputs": [
        {
          "output_type": "stream",
          "text": [
            "Mounted at drive\n"
          ],
          "name": "stdout"
        }
      ]
    },
    {
      "cell_type": "code",
      "metadata": {
        "id": "jU9Ykdb4rNrO"
      },
      "source": [
        "# Đọc file dữ liệu từ Drive\n",
        "df = pd.read_csv('drive/My Drive/Colab Notebooks/01. BDG/data_tomtat.csv')\n",
        "\n",
        "#df[['X1','X2']].head()"
      ],
      "execution_count": 3,
      "outputs": []
    },
    {
      "cell_type": "code",
      "metadata": {
        "id": "yepKAuFIsP0H",
        "colab": {
          "base_uri": "https://localhost:8080/",
          "height": 205
        },
        "outputId": "577a3c9e-47d2-4b9b-be33-1452d3ad4595"
      },
      "source": [
        "#df1 = df.iloc[:,0:17]\n",
        "df.head()"
      ],
      "execution_count": 4,
      "outputs": [
        {
          "output_type": "execute_result",
          "data": {
            "text/html": [
              "<div>\n",
              "<style scoped>\n",
              "    .dataframe tbody tr th:only-of-type {\n",
              "        vertical-align: middle;\n",
              "    }\n",
              "\n",
              "    .dataframe tbody tr th {\n",
              "        vertical-align: top;\n",
              "    }\n",
              "\n",
              "    .dataframe thead th {\n",
              "        text-align: right;\n",
              "    }\n",
              "</style>\n",
              "<table border=\"1\" class=\"dataframe\">\n",
              "  <thead>\n",
              "    <tr style=\"text-align: right;\">\n",
              "      <th></th>\n",
              "      <th>Unnamed: 0</th>\n",
              "      <th>X1</th>\n",
              "      <th>X2</th>\n",
              "      <th>X3</th>\n",
              "      <th>X4</th>\n",
              "      <th>X5</th>\n",
              "      <th>X6</th>\n",
              "      <th>X7</th>\n",
              "      <th>J1</th>\n",
              "      <th>J2</th>\n",
              "      <th>J3</th>\n",
              "      <th>J4</th>\n",
              "      <th>J5</th>\n",
              "      <th>J6</th>\n",
              "      <th>K1</th>\n",
              "    </tr>\n",
              "  </thead>\n",
              "  <tbody>\n",
              "    <tr>\n",
              "      <th>0</th>\n",
              "      <td>0</td>\n",
              "      <td>47</td>\n",
              "      <td>7</td>\n",
              "      <td>18</td>\n",
              "      <td>2</td>\n",
              "      <td>2</td>\n",
              "      <td>4</td>\n",
              "      <td>2.0</td>\n",
              "      <td>3.250000</td>\n",
              "      <td>4.812500</td>\n",
              "      <td>4.031250</td>\n",
              "      <td>3.463068</td>\n",
              "      <td>3.926136</td>\n",
              "      <td>3.806818</td>\n",
              "      <td>3.881629</td>\n",
              "    </tr>\n",
              "    <tr>\n",
              "      <th>1</th>\n",
              "      <td>1</td>\n",
              "      <td>37</td>\n",
              "      <td>5</td>\n",
              "      <td>19</td>\n",
              "      <td>2</td>\n",
              "      <td>4</td>\n",
              "      <td>1</td>\n",
              "      <td>2.0</td>\n",
              "      <td>2.000000</td>\n",
              "      <td>3.250000</td>\n",
              "      <td>2.625000</td>\n",
              "      <td>2.534091</td>\n",
              "      <td>2.901515</td>\n",
              "      <td>2.686869</td>\n",
              "      <td>2.666246</td>\n",
              "    </tr>\n",
              "    <tr>\n",
              "      <th>2</th>\n",
              "      <td>2</td>\n",
              "      <td>28</td>\n",
              "      <td>9</td>\n",
              "      <td>18</td>\n",
              "      <td>3</td>\n",
              "      <td>2</td>\n",
              "      <td>5</td>\n",
              "      <td>1.0</td>\n",
              "      <td>2.333333</td>\n",
              "      <td>3.833333</td>\n",
              "      <td>3.083333</td>\n",
              "      <td>2.840909</td>\n",
              "      <td>3.348485</td>\n",
              "      <td>3.090909</td>\n",
              "      <td>3.088384</td>\n",
              "    </tr>\n",
              "    <tr>\n",
              "      <th>3</th>\n",
              "      <td>3</td>\n",
              "      <td>45</td>\n",
              "      <td>9</td>\n",
              "      <td>23</td>\n",
              "      <td>2</td>\n",
              "      <td>2</td>\n",
              "      <td>4</td>\n",
              "      <td>3.0</td>\n",
              "      <td>4.666667</td>\n",
              "      <td>4.666667</td>\n",
              "      <td>4.666667</td>\n",
              "      <td>4.666667</td>\n",
              "      <td>4.444444</td>\n",
              "      <td>4.592593</td>\n",
              "      <td>4.617284</td>\n",
              "    </tr>\n",
              "    <tr>\n",
              "      <th>4</th>\n",
              "      <td>4</td>\n",
              "      <td>28</td>\n",
              "      <td>11</td>\n",
              "      <td>23</td>\n",
              "      <td>2</td>\n",
              "      <td>2</td>\n",
              "      <td>4</td>\n",
              "      <td>3.0</td>\n",
              "      <td>3.666667</td>\n",
              "      <td>5.916667</td>\n",
              "      <td>4.791667</td>\n",
              "      <td>3.852273</td>\n",
              "      <td>5.037879</td>\n",
              "      <td>4.560606</td>\n",
              "      <td>4.637626</td>\n",
              "    </tr>\n",
              "  </tbody>\n",
              "</table>\n",
              "</div>"
            ],
            "text/plain": [
              "   Unnamed: 0  X1  X2  X3  X4  ...        J3        J4        J5        J6        K1\n",
              "0           0  47   7  18   2  ...  4.031250  3.463068  3.926136  3.806818  3.881629\n",
              "1           1  37   5  19   2  ...  2.625000  2.534091  2.901515  2.686869  2.666246\n",
              "2           2  28   9  18   3  ...  3.083333  2.840909  3.348485  3.090909  3.088384\n",
              "3           3  45   9  23   2  ...  4.666667  4.666667  4.444444  4.592593  4.617284\n",
              "4           4  28  11  23   2  ...  4.791667  3.852273  5.037879  4.560606  4.637626\n",
              "\n",
              "[5 rows x 15 columns]"
            ]
          },
          "metadata": {
            "tags": []
          },
          "execution_count": 4
        }
      ]
    },
    {
      "cell_type": "code",
      "metadata": {
        "id": "wzK9XLV_tuN2"
      },
      "source": [
        "df = df.drop(df.columns[0], axis=1)  # df.columns is zero-based pd.Index  "
      ],
      "execution_count": 5,
      "outputs": []
    },
    {
      "cell_type": "code",
      "metadata": {
        "id": "QH_OwIkKt0WD"
      },
      "source": [
        "df.head()"
      ],
      "execution_count": null,
      "outputs": []
    },
    {
      "cell_type": "code",
      "metadata": {
        "id": "nhwypUzegg_Q"
      },
      "source": [
        "df_ten = pd.read_excel('drive/My Drive/Colab Notebooks/01. BDG/Data_Header.xlsx')"
      ],
      "execution_count": 13,
      "outputs": []
    },
    {
      "cell_type": "code",
      "metadata": {
        "colab": {
          "base_uri": "https://localhost:8080/",
          "height": 35
        },
        "id": "jvbBR44lhmVo",
        "outputId": "873f231d-e33b-4eff-a118-753f756d9a46"
      },
      "source": [
        "df_ten['X1'][0]"
      ],
      "execution_count": 14,
      "outputs": [
        {
          "output_type": "execute_result",
          "data": {
            "application/vnd.google.colaboratory.intrinsic+json": {
              "type": "string"
            },
            "text/plain": [
              "'TUỔI'"
            ]
          },
          "metadata": {
            "tags": []
          },
          "execution_count": 14
        }
      ]
    },
    {
      "cell_type": "code",
      "metadata": {
        "id": "o_B-EEV3hvps"
      },
      "source": [
        "list_ten = []\n",
        "\n",
        "for st in df.columns:\n",
        "  list_ten.append(df_ten[st][0])\n"
      ],
      "execution_count": 15,
      "outputs": []
    },
    {
      "cell_type": "code",
      "metadata": {
        "colab": {
          "base_uri": "https://localhost:8080/"
        },
        "id": "4oU8aGuoiQ8O",
        "outputId": "1443feaa-409c-4ced-9c9e-c7dfc48ae78d"
      },
      "source": [
        "list_ten"
      ],
      "execution_count": 16,
      "outputs": [
        {
          "output_type": "execute_result",
          "data": {
            "text/plain": [
              "['TUỔI',\n",
              " 'HỌC VẤN',\n",
              " 'TUỔI KẾT HÔN',\n",
              " 'HÔN NHÂN',\n",
              " 'SỐ CON',\n",
              " 'NGHỀ NGHIỆP',\n",
              " 'THU NHẬP',\n",
              " 'TB QUYỀN QUYẾT ĐỊNH SẢN XUẤT',\n",
              " 'TB QUYẾT ĐỊNH TÍN DỤNG',\n",
              " 'TB QUYẾT ĐỊNH CHI TIÊU GIA ĐÌNH',\n",
              " 'TB QUYỀN SỞ HỮU TÀI SẢN',\n",
              " 'TB QUYỀN THAM GIA XÃ HỘI',\n",
              " 'TB QUYỀN SD THỜI GIAN',\n",
              " 'TB BẤT BĐ GIỚI']"
            ]
          },
          "metadata": {
            "tags": []
          },
          "execution_count": 16
        }
      ]
    },
    {
      "cell_type": "code",
      "metadata": {
        "id": "ZCNdjUETihhT"
      },
      "source": [
        "# Phân nhóm Tuoi\n",
        "# Tuổi : 22 đến  29 =  1;   30 đến  45 = 2;   Trên 45 = 3\n",
        "\n",
        "df['NhomTuoi']=0\n",
        "\n",
        "def nhtuoi(a):\n",
        "    if (a >= 22) & (a<=29):\n",
        "       return 1\n",
        "    elif (a >= 30) & (a<=45):\n",
        "       return 2\n",
        "    else:\n",
        "       return 3\n",
        "\n",
        "\n",
        "# Chạy từng dòng để nhóm độ tuổi\n",
        "for row in df.index:\n",
        "    c= df.iloc[row]['X1']\n",
        "    df.iloc[row, df.columns.get_loc('NhomTuoi')] = nhtuoi(c)"
      ],
      "execution_count": 30,
      "outputs": []
    },
    {
      "cell_type": "code",
      "metadata": {
        "colab": {
          "base_uri": "https://localhost:8080/"
        },
        "id": "d8QOUo0sj4EO",
        "outputId": "6159456d-b208-417a-d71f-33d94f144ae6"
      },
      "source": [
        "df['NhomTuoi'].describe()"
      ],
      "execution_count": 21,
      "outputs": [
        {
          "output_type": "execute_result",
          "data": {
            "text/plain": [
              "count    1370.000000\n",
              "mean        1.816058\n",
              "std         0.670601\n",
              "min         1.000000\n",
              "25%         1.000000\n",
              "50%         2.000000\n",
              "75%         2.000000\n",
              "max         3.000000\n",
              "Name: NhomTuoi, dtype: float64"
            ]
          },
          "metadata": {
            "tags": []
          },
          "execution_count": 21
        }
      ]
    },
    {
      "cell_type": "code",
      "metadata": {
        "id": "wIADMde9kRJP"
      },
      "source": [
        "# Phân nhóm Hoc van\n",
        "# Học vấn: 5 đến  7 = 0;   9 đến 15 = 1\n",
        "\n",
        "df['NhomHocvan']=0\n",
        "\n",
        "def nh_Hocvan(a):\n",
        "    if (a >= 5) & (a<=8):\n",
        "       return 0\n",
        "    elif (a >= 9) & (a<=15):\n",
        "       return 1\n",
        "\n",
        "# Chạy từng dòng để nhóm học vấn\n",
        "for row in df.index:\n",
        "    c= df.iloc[row]['X2']\n",
        "    df.iloc[row, df.columns.get_loc('NhomHocvan')] = nh_Hocvan(c)\n"
      ],
      "execution_count": 31,
      "outputs": []
    },
    {
      "cell_type": "code",
      "metadata": {
        "colab": {
          "base_uri": "https://localhost:8080/"
        },
        "id": "nPSe_4pql3Vw",
        "outputId": "d1af8cdb-738a-4136-d408-ad4f81e32839"
      },
      "source": [
        "df['NhomHocvan'].describe()"
      ],
      "execution_count": 24,
      "outputs": [
        {
          "output_type": "execute_result",
          "data": {
            "text/plain": [
              "count    1370.000000\n",
              "mean        0.630657\n",
              "std         0.482803\n",
              "min         0.000000\n",
              "25%         0.000000\n",
              "50%         1.000000\n",
              "75%         1.000000\n",
              "max         1.000000\n",
              "Name: NhomHocvan, dtype: float64"
            ]
          },
          "metadata": {
            "tags": []
          },
          "execution_count": 24
        }
      ]
    },
    {
      "cell_type": "code",
      "metadata": {
        "id": "55uBWSThmBpp"
      },
      "source": [
        "# Phân nhóm Tuổi kết hôn\n",
        "#Tuổi kết hôn: 16 đến 18 = 0; 19 đến  27 = 1\n",
        "\n",
        "df['NhomTuoiKH']=0\n",
        "\n",
        "def nh_TuoiKH(a):\n",
        "    if (a >= 16) & (a<=18):\n",
        "       return 0\n",
        "    elif (a >= 19) & (a<=27):\n",
        "       return 1\n",
        "\n",
        "for row in df.index:\n",
        "    c= df.iloc[row]['X3']\n",
        "    df.iloc[row, df.columns.get_loc('NhomTuoiKH')] = nh_TuoiKH(c)"
      ],
      "execution_count": 43,
      "outputs": []
    },
    {
      "cell_type": "code",
      "metadata": {
        "colab": {
          "base_uri": "https://localhost:8080/"
        },
        "id": "ax9zjIERmppU",
        "outputId": "66874fd9-4a76-4aac-b2ea-8f9756371d7e"
      },
      "source": [
        "df['NhomTuoiKH'].describe()"
      ],
      "execution_count": 33,
      "outputs": [
        {
          "output_type": "execute_result",
          "data": {
            "text/plain": [
              "count    1370.000000\n",
              "mean        0.527007\n",
              "std         0.499452\n",
              "min         0.000000\n",
              "25%         0.000000\n",
              "50%         1.000000\n",
              "75%         1.000000\n",
              "max         1.000000\n",
              "Name: NhomTuoiKH, dtype: float64"
            ]
          },
          "metadata": {
            "tags": []
          },
          "execution_count": 33
        }
      ]
    },
    {
      "cell_type": "code",
      "metadata": {
        "id": "PDL1XJ_smyuZ"
      },
      "source": [
        "# Phân nhóm Số con\n",
        "# Số con: 1 đến 2 = 1; 3 đến 5 = 0 \n",
        "\n",
        "df['NhomSocon']=0\n",
        "\n",
        "def nh_TuoiSocon(a):\n",
        "    if (a >= 1) & (a<=2):\n",
        "       return 1\n",
        "    elif (a >= 3) & (a<=5):\n",
        "       return 0\n",
        "\n",
        "for row in df.index:\n",
        "    c= df.iloc[row]['X5']\n",
        "    df.iloc[row, df.columns.get_loc('NhomSocon')] = nh_TuoiSocon(c)"
      ],
      "execution_count": 34,
      "outputs": []
    },
    {
      "cell_type": "code",
      "metadata": {
        "colab": {
          "base_uri": "https://localhost:8080/"
        },
        "id": "y3mp22fRnWNP",
        "outputId": "e6084e41-020c-4fd1-bff2-9ae6121733a4"
      },
      "source": [
        "df['NhomSocon'].describe()"
      ],
      "execution_count": 29,
      "outputs": [
        {
          "output_type": "execute_result",
          "data": {
            "text/plain": [
              "count    1370.000000\n",
              "mean        0.478832\n",
              "std         0.499734\n",
              "min         0.000000\n",
              "25%         0.000000\n",
              "50%         0.000000\n",
              "75%         1.000000\n",
              "max         1.000000\n",
              "Name: NhomSocon, dtype: float64"
            ]
          },
          "metadata": {
            "tags": []
          },
          "execution_count": 29
        }
      ]
    },
    {
      "cell_type": "code",
      "metadata": {
        "colab": {
          "base_uri": "https://localhost:8080/"
        },
        "id": "tgJzT_e2qfPS",
        "outputId": "c61ed319-5398-4a87-9494-9766d31c5763"
      },
      "source": [
        "Tuoi_group = df.groupby(df['NhomTuoi'])\n",
        "#Tuoi_group.describe()['J1']\n",
        "\n",
        "for t in range(1,7):\n",
        "  print('So sánh sự khác biệt giữa 3 nhóm tuổi (1,2,3) với biến số ',df_ten['J'+ str(t) + ''][0] )\n",
        "  print('Trung bình của Nhóm 1:', \"{:.2f}\".format(Tuoi_group['J'+ str(t) + ''].mean()[1]))\n",
        "  print('Trung bình của Nhóm 2:', \"{:.2f}\".format(Tuoi_group['J'+ str(t) + ''].mean()[2]))\n",
        "  print('Trung bình của Nhóm 3:', \"{:.2f}\".format(Tuoi_group['J'+ str(t) + ''].mean()[3]))"
      ],
      "execution_count": 39,
      "outputs": [
        {
          "output_type": "stream",
          "text": [
            "So sánh sự khác biệt giữa 3 nhóm tuổi (1,2,3) với biến số  TB QUYỀN QUYẾT ĐỊNH SẢN XUẤT\n",
            "Trung bình của Nhóm 1: 3.03\n",
            "Trung bình của Nhóm 2: 3.02\n",
            "Trung bình của Nhóm 3: 2.80\n",
            "So sánh sự khác biệt giữa 3 nhóm tuổi (1,2,3) với biến số  TB QUYẾT ĐỊNH TÍN DỤNG\n",
            "Trung bình của Nhóm 1: 5.48\n",
            "Trung bình của Nhóm 2: 4.77\n",
            "Trung bình của Nhóm 3: 4.60\n",
            "So sánh sự khác biệt giữa 3 nhóm tuổi (1,2,3) với biến số  TB QUYẾT ĐỊNH CHI TIÊU GIA ĐÌNH\n",
            "Trung bình của Nhóm 1: 4.26\n",
            "Trung bình của Nhóm 2: 3.89\n",
            "Trung bình của Nhóm 3: 3.70\n",
            "So sánh sự khác biệt giữa 3 nhóm tuổi (1,2,3) với biến số  TB QUYỀN SỞ HỮU TÀI SẢN\n",
            "Trung bình của Nhóm 1: 3.65\n",
            "Trung bình của Nhóm 2: 3.36\n",
            "Trung bình của Nhóm 3: 3.19\n",
            "So sánh sự khác biệt giữa 3 nhóm tuổi (1,2,3) với biến số  TB QUYỀN THAM GIA XÃ HỘI\n",
            "Trung bình của Nhóm 1: 4.28\n",
            "Trung bình của Nhóm 2: 3.88\n",
            "Trung bình của Nhóm 3: 3.71\n",
            "So sánh sự khác biệt giữa 3 nhóm tuổi (1,2,3) với biến số  TB QUYỀN SD THỜI GIAN\n",
            "Trung bình của Nhóm 1: 4.06\n",
            "Trung bình của Nhóm 2: 3.71\n",
            "Trung bình của Nhóm 3: 3.53\n"
          ],
          "name": "stdout"
        }
      ]
    },
    {
      "cell_type": "code",
      "metadata": {
        "colab": {
          "base_uri": "https://localhost:8080/"
        },
        "id": "7iSUr4wRtJPV",
        "outputId": "526c0416-44c9-4a7e-965f-8d0b36c94984"
      },
      "source": [
        "\n",
        "Hocvan_group = df.groupby(df['NhomHocvan'])\n",
        "#Tuoi_group.describe()['J1']\n",
        "\n",
        "for t in range(1,7):\n",
        "  print('So sánh sự khác biệt giữa 3 nhóm học vấn (0,1) với biến số ',df_ten['J'+ str(t) + ''][0] )\n",
        "  print('Trung bình của Nhóm 0:', \"{:.2f}\".format(Hocvan_group['J'+ str(t) + ''].mean()[0]))\n",
        "  print('Trung bình của Nhóm 1:', \"{:.2f}\".format(Hocvan_group['J'+ str(t) + ''].mean()[1]))"
      ],
      "execution_count": 41,
      "outputs": [
        {
          "output_type": "stream",
          "text": [
            "So sánh sự khác biệt giữa 3 nhóm học vấn (0,1) với biến số  TB QUYỀN QUYẾT ĐỊNH SẢN XUẤT\n",
            "Trung bình của Nhóm 0: 2.55\n",
            "Trung bình của Nhóm 1: 3.25\n",
            "So sánh sự khác biệt giữa 3 nhóm học vấn (0,1) với biến số  TB QUYẾT ĐỊNH TÍN DỤNG\n",
            "Trung bình của Nhóm 0: 4.41\n",
            "Trung bình của Nhóm 1: 5.31\n",
            "So sánh sự khác biệt giữa 3 nhóm học vấn (0,1) với biến số  TB QUYẾT ĐỊNH CHI TIÊU GIA ĐÌNH\n",
            "Trung bình của Nhóm 0: 3.48\n",
            "Trung bình của Nhóm 1: 4.28\n",
            "So sánh sự khác biệt giữa 3 nhóm học vấn (0,1) với biến số  TB QUYỀN SỞ HỮU TÀI SẢN\n",
            "Trung bình của Nhóm 0: 3.05\n",
            "Trung bình của Nhóm 1: 3.66\n",
            "So sánh sự khác biệt giữa 3 nhóm học vấn (0,1) với biến số  TB QUYỀN THAM GIA XÃ HỘI\n",
            "Trung bình của Nhóm 0: 3.54\n",
            "Trung bình của Nhóm 1: 4.25\n",
            "So sánh sự khác biệt giữa 3 nhóm học vấn (0,1) với biến số  TB QUYỀN SD THỜI GIAN\n",
            "Trung bình của Nhóm 0: 3.36\n",
            "Trung bình của Nhóm 1: 4.06\n"
          ],
          "name": "stdout"
        }
      ]
    },
    {
      "cell_type": "code",
      "metadata": {
        "colab": {
          "base_uri": "https://localhost:8080/"
        },
        "id": "qlNyeplsuAgT",
        "outputId": "da90de43-9c4b-46af-9b3b-1462eb85ac5e"
      },
      "source": [
        "#Tuổi kết hôn\n",
        "TuoiKH_group = df.groupby(df['NhomTuoiKH'])\n",
        "\n",
        "for t in range(1,7):\n",
        "  print('So sánh sự khác biệt giữa 2 nhóm tuổi kết hôn (0,1) với biến số ',df_ten['J'+ str(t) + ''][0] )\n",
        "  print('Trung bình của Nhóm 0:', \"{:.2f}\".format(TuoiKH_group['J'+ str(t) + ''].mean()[0]))\n",
        "  print('Trung bình của Nhóm 1:', \"{:.2f}\".format(TuoiKH_group['J'+ str(t) + ''].mean()[1]))"
      ],
      "execution_count": 44,
      "outputs": [
        {
          "output_type": "stream",
          "text": [
            "So sánh sự khác biệt giữa 2 nhóm tuổi kết hôn (0,1) với biến số  TB QUYỀN QUYẾT ĐỊNH SẢN XUẤT\n",
            "Trung bình của Nhóm 0: 2.77\n",
            "Trung bình của Nhóm 1: 3.20\n",
            "So sánh sự khác biệt giữa 2 nhóm tuổi kết hôn (0,1) với biến số  TB QUYẾT ĐỊNH TÍN DỤNG\n",
            "Trung bình của Nhóm 0: 4.70\n",
            "Trung bình của Nhóm 1: 5.23\n",
            "So sánh sự khác biệt giữa 2 nhóm tuổi kết hôn (0,1) với biến số  TB QUYẾT ĐỊNH CHI TIÊU GIA ĐÌNH\n",
            "Trung bình của Nhóm 0: 3.74\n",
            "Trung bình của Nhóm 1: 4.21\n",
            "So sánh sự khác biệt giữa 2 nhóm tuổi kết hôn (0,1) với biến số  TB QUYỀN SỞ HỮU TÀI SẢN\n",
            "Trung bình của Nhóm 0: 3.24\n",
            "Trung bình của Nhóm 1: 3.60\n",
            "So sánh sự khác biệt giữa 2 nhóm tuổi kết hôn (0,1) với biến số  TB QUYỀN THAM GIA XÃ HỘI\n",
            "Trung bình của Nhóm 0: 3.77\n",
            "Trung bình của Nhóm 1: 4.18\n",
            "So sánh sự khác biệt giữa 2 nhóm tuổi kết hôn (0,1) với biến số  TB QUYỀN SD THỜI GIAN\n",
            "Trung bình của Nhóm 0: 3.58\n",
            "Trung bình của Nhóm 1: 4.00\n"
          ],
          "name": "stdout"
        }
      ]
    },
    {
      "cell_type": "code",
      "metadata": {
        "colab": {
          "base_uri": "https://localhost:8080/"
        },
        "id": "C4-qVBcAvAii",
        "outputId": "925c9bdc-98e0-4c2f-95e9-6403b2c567c1"
      },
      "source": [
        "#Số con\n",
        "Socon_group = df.groupby(df['NhomSocon'])\n",
        "\n",
        "for t in range(1,7):\n",
        "  print('So sánh sự khác biệt giữa 2 nhóm Số con (0,1) với biến số ',df_ten['J'+ str(t) + ''][0] )\n",
        "  print('Trung bình của Nhóm 0:', \"{:.2f}\".format(Socon_group['J'+ str(t) + ''].mean()[0]))\n",
        "  print('Trung bình của Nhóm 1:', \"{:.2f}\".format(Socon_group['J'+ str(t) + ''].mean()[1]))\n"
      ],
      "execution_count": 45,
      "outputs": [
        {
          "output_type": "stream",
          "text": [
            "So sánh sự khác biệt giữa 2 nhóm Số con (0,1) với biến số  TB QUYỀN QUYẾT ĐỊNH SẢN XUẤT\n",
            "Trung bình của Nhóm 0: 2.72\n",
            "Trung bình của Nhóm 1: 3.29\n",
            "So sánh sự khác biệt giữa 2 nhóm Số con (0,1) với biến số  TB QUYẾT ĐỊNH TÍN DỤNG\n",
            "Trung bình của Nhóm 0: 4.75\n",
            "Trung bình của Nhóm 1: 5.23\n",
            "So sánh sự khác biệt giữa 2 nhóm Số con (0,1) với biến số  TB QUYẾT ĐỊNH CHI TIÊU GIA ĐÌNH\n",
            "Trung bình của Nhóm 0: 3.73\n",
            "Trung bình của Nhóm 1: 4.26\n",
            "So sánh sự khác biệt giữa 2 nhóm Số con (0,1) với biến số  TB QUYỀN SỞ HỮU TÀI SẢN\n",
            "Trung bình của Nhóm 0: 3.23\n",
            "Trung bình của Nhóm 1: 3.66\n",
            "So sánh sự khác biệt giữa 2 nhóm Số con (0,1) với biến số  TB QUYỀN THAM GIA XÃ HỘI\n",
            "Trung bình của Nhóm 0: 3.82\n",
            "Trung bình của Nhóm 1: 4.17\n",
            "So sánh sự khác biệt giữa 2 nhóm Số con (0,1) với biến số  TB QUYỀN SD THỜI GIAN\n",
            "Trung bình của Nhóm 0: 3.59\n",
            "Trung bình của Nhóm 1: 4.03\n"
          ],
          "name": "stdout"
        }
      ]
    },
    {
      "cell_type": "code",
      "metadata": {
        "id": "ueyXW31Tvhw4"
      },
      "source": [
        "tencot = df.columns"
      ],
      "execution_count": 46,
      "outputs": []
    },
    {
      "cell_type": "code",
      "metadata": {
        "colab": {
          "base_uri": "https://localhost:8080/"
        },
        "id": "BDScKY5HvxIN",
        "outputId": "ff4b5970-e8c5-42d8-9897-f6b46ff37259"
      },
      "source": [
        "tencot"
      ],
      "execution_count": 47,
      "outputs": [
        {
          "output_type": "execute_result",
          "data": {
            "text/plain": [
              "Index(['X1', 'X2', 'X3', 'X4', 'X5', 'X6', 'X7', 'J1', 'J2', 'J3', 'J4', 'J5',\n",
              "       'J6', 'K1', 'NhomTuoi', 'NhomHocvan', 'NhomTuoiKH', 'NhomSocon'],\n",
              "      dtype='object')"
            ]
          },
          "metadata": {
            "tags": []
          },
          "execution_count": 47
        }
      ]
    },
    {
      "cell_type": "code",
      "metadata": {
        "colab": {
          "base_uri": "https://localhost:8080/"
        },
        "id": "4Yy6jlVVxiUk",
        "outputId": "30317b45-c7d1-4f0a-d5b8-1ca8c37fb33f"
      },
      "source": [
        "print(df['X2'].value_counts()) "
      ],
      "execution_count": 48,
      "outputs": [
        {
          "output_type": "stream",
          "text": [
            "9     433\n",
            "5     351\n",
            "11    234\n",
            "7     155\n",
            "12    115\n",
            "15     82\n",
            "Name: X2, dtype: int64\n"
          ],
          "name": "stdout"
        }
      ]
    },
    {
      "cell_type": "code",
      "metadata": {
        "id": "atCkwNWD7wxh"
      },
      "source": [
        "df['X1_tmp'] = df['X1']\n",
        "df['X1'] = df['NhomTuoi']"
      ],
      "execution_count": 54,
      "outputs": []
    },
    {
      "cell_type": "code",
      "metadata": {
        "id": "3MBT1PS68DFq"
      },
      "source": [
        "df['X2_tmp'] = df['X2']\n",
        "df['X2'] = df['NhomHocvan']"
      ],
      "execution_count": 55,
      "outputs": []
    },
    {
      "cell_type": "code",
      "metadata": {
        "id": "XMk7ergc8JWC"
      },
      "source": [
        "df['X3_tmp'] = df['X3']\n",
        "df['X3'] = df['NhomTuoiKH']"
      ],
      "execution_count": 57,
      "outputs": []
    },
    {
      "cell_type": "code",
      "metadata": {
        "id": "pybaLHsP8TVf"
      },
      "source": [
        "df['X5_tmp'] = df['X5']\n",
        "df['X5'] = df['NhomSocon'] "
      ],
      "execution_count": 58,
      "outputs": []
    },
    {
      "cell_type": "code",
      "metadata": {
        "colab": {
          "base_uri": "https://localhost:8080/",
          "height": 205
        },
        "id": "5ubiD0Wx8lJQ",
        "outputId": "f4dfe632-09d6-434d-e469-768e790f74d3"
      },
      "source": [
        "df.head(5)\n"
      ],
      "execution_count": 59,
      "outputs": [
        {
          "output_type": "execute_result",
          "data": {
            "text/html": [
              "<div>\n",
              "<style scoped>\n",
              "    .dataframe tbody tr th:only-of-type {\n",
              "        vertical-align: middle;\n",
              "    }\n",
              "\n",
              "    .dataframe tbody tr th {\n",
              "        vertical-align: top;\n",
              "    }\n",
              "\n",
              "    .dataframe thead th {\n",
              "        text-align: right;\n",
              "    }\n",
              "</style>\n",
              "<table border=\"1\" class=\"dataframe\">\n",
              "  <thead>\n",
              "    <tr style=\"text-align: right;\">\n",
              "      <th></th>\n",
              "      <th>X1</th>\n",
              "      <th>X2</th>\n",
              "      <th>X3</th>\n",
              "      <th>X4</th>\n",
              "      <th>X5</th>\n",
              "      <th>X6</th>\n",
              "      <th>X7</th>\n",
              "      <th>J1</th>\n",
              "      <th>J2</th>\n",
              "      <th>J3</th>\n",
              "      <th>J4</th>\n",
              "      <th>J5</th>\n",
              "      <th>J6</th>\n",
              "      <th>K1</th>\n",
              "      <th>NhomTuoi</th>\n",
              "      <th>NhomHocvan</th>\n",
              "      <th>NhomTuoiKH</th>\n",
              "      <th>NhomSocon</th>\n",
              "      <th>X2_tmp</th>\n",
              "      <th>X3_tmp</th>\n",
              "      <th>X1_tmp</th>\n",
              "      <th>X5_tmp</th>\n",
              "    </tr>\n",
              "  </thead>\n",
              "  <tbody>\n",
              "    <tr>\n",
              "      <th>0</th>\n",
              "      <td>3</td>\n",
              "      <td>0</td>\n",
              "      <td>0</td>\n",
              "      <td>2</td>\n",
              "      <td>1</td>\n",
              "      <td>4</td>\n",
              "      <td>2.0</td>\n",
              "      <td>3.250000</td>\n",
              "      <td>4.812500</td>\n",
              "      <td>4.031250</td>\n",
              "      <td>3.463068</td>\n",
              "      <td>3.926136</td>\n",
              "      <td>3.806818</td>\n",
              "      <td>3.881629</td>\n",
              "      <td>3</td>\n",
              "      <td>0</td>\n",
              "      <td>0</td>\n",
              "      <td>1</td>\n",
              "      <td>7</td>\n",
              "      <td>18</td>\n",
              "      <td>47</td>\n",
              "      <td>2</td>\n",
              "    </tr>\n",
              "    <tr>\n",
              "      <th>1</th>\n",
              "      <td>2</td>\n",
              "      <td>0</td>\n",
              "      <td>1</td>\n",
              "      <td>2</td>\n",
              "      <td>0</td>\n",
              "      <td>1</td>\n",
              "      <td>2.0</td>\n",
              "      <td>2.000000</td>\n",
              "      <td>3.250000</td>\n",
              "      <td>2.625000</td>\n",
              "      <td>2.534091</td>\n",
              "      <td>2.901515</td>\n",
              "      <td>2.686869</td>\n",
              "      <td>2.666246</td>\n",
              "      <td>2</td>\n",
              "      <td>0</td>\n",
              "      <td>1</td>\n",
              "      <td>0</td>\n",
              "      <td>5</td>\n",
              "      <td>19</td>\n",
              "      <td>37</td>\n",
              "      <td>4</td>\n",
              "    </tr>\n",
              "    <tr>\n",
              "      <th>2</th>\n",
              "      <td>1</td>\n",
              "      <td>1</td>\n",
              "      <td>0</td>\n",
              "      <td>3</td>\n",
              "      <td>1</td>\n",
              "      <td>5</td>\n",
              "      <td>1.0</td>\n",
              "      <td>2.333333</td>\n",
              "      <td>3.833333</td>\n",
              "      <td>3.083333</td>\n",
              "      <td>2.840909</td>\n",
              "      <td>3.348485</td>\n",
              "      <td>3.090909</td>\n",
              "      <td>3.088384</td>\n",
              "      <td>1</td>\n",
              "      <td>1</td>\n",
              "      <td>0</td>\n",
              "      <td>1</td>\n",
              "      <td>9</td>\n",
              "      <td>18</td>\n",
              "      <td>28</td>\n",
              "      <td>2</td>\n",
              "    </tr>\n",
              "    <tr>\n",
              "      <th>3</th>\n",
              "      <td>2</td>\n",
              "      <td>1</td>\n",
              "      <td>1</td>\n",
              "      <td>2</td>\n",
              "      <td>1</td>\n",
              "      <td>4</td>\n",
              "      <td>3.0</td>\n",
              "      <td>4.666667</td>\n",
              "      <td>4.666667</td>\n",
              "      <td>4.666667</td>\n",
              "      <td>4.666667</td>\n",
              "      <td>4.444444</td>\n",
              "      <td>4.592593</td>\n",
              "      <td>4.617284</td>\n",
              "      <td>2</td>\n",
              "      <td>1</td>\n",
              "      <td>1</td>\n",
              "      <td>1</td>\n",
              "      <td>9</td>\n",
              "      <td>23</td>\n",
              "      <td>45</td>\n",
              "      <td>2</td>\n",
              "    </tr>\n",
              "    <tr>\n",
              "      <th>4</th>\n",
              "      <td>1</td>\n",
              "      <td>1</td>\n",
              "      <td>1</td>\n",
              "      <td>2</td>\n",
              "      <td>1</td>\n",
              "      <td>4</td>\n",
              "      <td>3.0</td>\n",
              "      <td>3.666667</td>\n",
              "      <td>5.916667</td>\n",
              "      <td>4.791667</td>\n",
              "      <td>3.852273</td>\n",
              "      <td>5.037879</td>\n",
              "      <td>4.560606</td>\n",
              "      <td>4.637626</td>\n",
              "      <td>1</td>\n",
              "      <td>1</td>\n",
              "      <td>1</td>\n",
              "      <td>1</td>\n",
              "      <td>11</td>\n",
              "      <td>23</td>\n",
              "      <td>28</td>\n",
              "      <td>2</td>\n",
              "    </tr>\n",
              "  </tbody>\n",
              "</table>\n",
              "</div>"
            ],
            "text/plain": [
              "   X1  X2  X3  X4  X5  ...  NhomSocon  X2_tmp  X3_tmp  X1_tmp  X5_tmp\n",
              "0   3   0   0   2   1  ...          1       7      18      47       2\n",
              "1   2   0   1   2   0  ...          0       5      19      37       4\n",
              "2   1   1   0   3   1  ...          1       9      18      28       2\n",
              "3   2   1   1   2   1  ...          1       9      23      45       2\n",
              "4   1   1   1   2   1  ...          1      11      23      28       2\n",
              "\n",
              "[5 rows x 22 columns]"
            ]
          },
          "metadata": {
            "tags": []
          },
          "execution_count": 59
        }
      ]
    },
    {
      "cell_type": "code",
      "metadata": {
        "id": "qwYZ1cJG9oxi"
      },
      "source": [
        "df02 = pd.DataFrame(df,columns=['X1','X2','X3','X4','X5','X6','X7','J1','J2','J3','J4','J5','J6','K1'])"
      ],
      "execution_count": 65,
      "outputs": []
    },
    {
      "cell_type": "code",
      "metadata": {
        "colab": {
          "base_uri": "https://localhost:8080/",
          "height": 422
        },
        "id": "pIyPgHeS-jGR",
        "outputId": "932ae9ee-2601-4df6-ef1d-748bb6d0aa68"
      },
      "source": [
        "df02"
      ],
      "execution_count": 66,
      "outputs": [
        {
          "output_type": "execute_result",
          "data": {
            "text/html": [
              "<div>\n",
              "<style scoped>\n",
              "    .dataframe tbody tr th:only-of-type {\n",
              "        vertical-align: middle;\n",
              "    }\n",
              "\n",
              "    .dataframe tbody tr th {\n",
              "        vertical-align: top;\n",
              "    }\n",
              "\n",
              "    .dataframe thead th {\n",
              "        text-align: right;\n",
              "    }\n",
              "</style>\n",
              "<table border=\"1\" class=\"dataframe\">\n",
              "  <thead>\n",
              "    <tr style=\"text-align: right;\">\n",
              "      <th></th>\n",
              "      <th>X1</th>\n",
              "      <th>X2</th>\n",
              "      <th>X3</th>\n",
              "      <th>X4</th>\n",
              "      <th>X5</th>\n",
              "      <th>X6</th>\n",
              "      <th>X7</th>\n",
              "      <th>J1</th>\n",
              "      <th>J2</th>\n",
              "      <th>J3</th>\n",
              "      <th>J4</th>\n",
              "      <th>J5</th>\n",
              "      <th>J6</th>\n",
              "      <th>K1</th>\n",
              "    </tr>\n",
              "  </thead>\n",
              "  <tbody>\n",
              "    <tr>\n",
              "      <th>0</th>\n",
              "      <td>3</td>\n",
              "      <td>0</td>\n",
              "      <td>0</td>\n",
              "      <td>2</td>\n",
              "      <td>1</td>\n",
              "      <td>4</td>\n",
              "      <td>2.0</td>\n",
              "      <td>3.250000</td>\n",
              "      <td>4.812500</td>\n",
              "      <td>4.031250</td>\n",
              "      <td>3.463068</td>\n",
              "      <td>3.926136</td>\n",
              "      <td>3.806818</td>\n",
              "      <td>3.881629</td>\n",
              "    </tr>\n",
              "    <tr>\n",
              "      <th>1</th>\n",
              "      <td>2</td>\n",
              "      <td>0</td>\n",
              "      <td>1</td>\n",
              "      <td>2</td>\n",
              "      <td>0</td>\n",
              "      <td>1</td>\n",
              "      <td>2.0</td>\n",
              "      <td>2.000000</td>\n",
              "      <td>3.250000</td>\n",
              "      <td>2.625000</td>\n",
              "      <td>2.534091</td>\n",
              "      <td>2.901515</td>\n",
              "      <td>2.686869</td>\n",
              "      <td>2.666246</td>\n",
              "    </tr>\n",
              "    <tr>\n",
              "      <th>2</th>\n",
              "      <td>1</td>\n",
              "      <td>1</td>\n",
              "      <td>0</td>\n",
              "      <td>3</td>\n",
              "      <td>1</td>\n",
              "      <td>5</td>\n",
              "      <td>1.0</td>\n",
              "      <td>2.333333</td>\n",
              "      <td>3.833333</td>\n",
              "      <td>3.083333</td>\n",
              "      <td>2.840909</td>\n",
              "      <td>3.348485</td>\n",
              "      <td>3.090909</td>\n",
              "      <td>3.088384</td>\n",
              "    </tr>\n",
              "    <tr>\n",
              "      <th>3</th>\n",
              "      <td>2</td>\n",
              "      <td>1</td>\n",
              "      <td>1</td>\n",
              "      <td>2</td>\n",
              "      <td>1</td>\n",
              "      <td>4</td>\n",
              "      <td>3.0</td>\n",
              "      <td>4.666667</td>\n",
              "      <td>4.666667</td>\n",
              "      <td>4.666667</td>\n",
              "      <td>4.666667</td>\n",
              "      <td>4.444444</td>\n",
              "      <td>4.592593</td>\n",
              "      <td>4.617284</td>\n",
              "    </tr>\n",
              "    <tr>\n",
              "      <th>4</th>\n",
              "      <td>1</td>\n",
              "      <td>1</td>\n",
              "      <td>1</td>\n",
              "      <td>2</td>\n",
              "      <td>1</td>\n",
              "      <td>4</td>\n",
              "      <td>3.0</td>\n",
              "      <td>3.666667</td>\n",
              "      <td>5.916667</td>\n",
              "      <td>4.791667</td>\n",
              "      <td>3.852273</td>\n",
              "      <td>5.037879</td>\n",
              "      <td>4.560606</td>\n",
              "      <td>4.637626</td>\n",
              "    </tr>\n",
              "    <tr>\n",
              "      <th>...</th>\n",
              "      <td>...</td>\n",
              "      <td>...</td>\n",
              "      <td>...</td>\n",
              "      <td>...</td>\n",
              "      <td>...</td>\n",
              "      <td>...</td>\n",
              "      <td>...</td>\n",
              "      <td>...</td>\n",
              "      <td>...</td>\n",
              "      <td>...</td>\n",
              "      <td>...</td>\n",
              "      <td>...</td>\n",
              "      <td>...</td>\n",
              "      <td>...</td>\n",
              "    </tr>\n",
              "    <tr>\n",
              "      <th>1365</th>\n",
              "      <td>1</td>\n",
              "      <td>1</td>\n",
              "      <td>0</td>\n",
              "      <td>2</td>\n",
              "      <td>1</td>\n",
              "      <td>1</td>\n",
              "      <td>2.0</td>\n",
              "      <td>1.916667</td>\n",
              "      <td>3.979167</td>\n",
              "      <td>2.947917</td>\n",
              "      <td>2.531250</td>\n",
              "      <td>3.229167</td>\n",
              "      <td>2.902778</td>\n",
              "      <td>2.917824</td>\n",
              "    </tr>\n",
              "    <tr>\n",
              "      <th>1366</th>\n",
              "      <td>2</td>\n",
              "      <td>1</td>\n",
              "      <td>0</td>\n",
              "      <td>1</td>\n",
              "      <td>0</td>\n",
              "      <td>5</td>\n",
              "      <td>2.0</td>\n",
              "      <td>3.166667</td>\n",
              "      <td>6.041667</td>\n",
              "      <td>4.604167</td>\n",
              "      <td>3.619318</td>\n",
              "      <td>4.405303</td>\n",
              "      <td>4.209596</td>\n",
              "      <td>4.341120</td>\n",
              "    </tr>\n",
              "    <tr>\n",
              "      <th>1367</th>\n",
              "      <td>1</td>\n",
              "      <td>1</td>\n",
              "      <td>1</td>\n",
              "      <td>2</td>\n",
              "      <td>1</td>\n",
              "      <td>4</td>\n",
              "      <td>3.0</td>\n",
              "      <td>4.416667</td>\n",
              "      <td>6.604167</td>\n",
              "      <td>5.510417</td>\n",
              "      <td>4.866477</td>\n",
              "      <td>5.232955</td>\n",
              "      <td>5.203283</td>\n",
              "      <td>5.305661</td>\n",
              "    </tr>\n",
              "    <tr>\n",
              "      <th>1368</th>\n",
              "      <td>1</td>\n",
              "      <td>1</td>\n",
              "      <td>1</td>\n",
              "      <td>2</td>\n",
              "      <td>0</td>\n",
              "      <td>5</td>\n",
              "      <td>2.0</td>\n",
              "      <td>2.666667</td>\n",
              "      <td>6.416667</td>\n",
              "      <td>4.541667</td>\n",
              "      <td>3.784091</td>\n",
              "      <td>4.734848</td>\n",
              "      <td>4.353535</td>\n",
              "      <td>4.416246</td>\n",
              "    </tr>\n",
              "    <tr>\n",
              "      <th>1369</th>\n",
              "      <td>2</td>\n",
              "      <td>1</td>\n",
              "      <td>1</td>\n",
              "      <td>2</td>\n",
              "      <td>1</td>\n",
              "      <td>4</td>\n",
              "      <td>3.0</td>\n",
              "      <td>2.666667</td>\n",
              "      <td>4.416667</td>\n",
              "      <td>3.541667</td>\n",
              "      <td>2.784091</td>\n",
              "      <td>3.401515</td>\n",
              "      <td>3.242424</td>\n",
              "      <td>3.342172</td>\n",
              "    </tr>\n",
              "  </tbody>\n",
              "</table>\n",
              "<p>1370 rows × 14 columns</p>\n",
              "</div>"
            ],
            "text/plain": [
              "      X1  X2  X3  X4  X5  ...        J3        J4        J5        J6        K1\n",
              "0      3   0   0   2   1  ...  4.031250  3.463068  3.926136  3.806818  3.881629\n",
              "1      2   0   1   2   0  ...  2.625000  2.534091  2.901515  2.686869  2.666246\n",
              "2      1   1   0   3   1  ...  3.083333  2.840909  3.348485  3.090909  3.088384\n",
              "3      2   1   1   2   1  ...  4.666667  4.666667  4.444444  4.592593  4.617284\n",
              "4      1   1   1   2   1  ...  4.791667  3.852273  5.037879  4.560606  4.637626\n",
              "...   ..  ..  ..  ..  ..  ...       ...       ...       ...       ...       ...\n",
              "1365   1   1   0   2   1  ...  2.947917  2.531250  3.229167  2.902778  2.917824\n",
              "1366   2   1   0   1   0  ...  4.604167  3.619318  4.405303  4.209596  4.341120\n",
              "1367   1   1   1   2   1  ...  5.510417  4.866477  5.232955  5.203283  5.305661\n",
              "1368   1   1   1   2   0  ...  4.541667  3.784091  4.734848  4.353535  4.416246\n",
              "1369   2   1   1   2   1  ...  3.541667  2.784091  3.401515  3.242424  3.342172\n",
              "\n",
              "[1370 rows x 14 columns]"
            ]
          },
          "metadata": {
            "tags": []
          },
          "execution_count": 66
        }
      ]
    },
    {
      "cell_type": "code",
      "metadata": {
        "id": "fzRTJur0Bbsj"
      },
      "source": [
        "\n",
        "tencot = df02.columns\n",
        "df02.columns = list_ten"
      ],
      "execution_count": 71,
      "outputs": []
    },
    {
      "cell_type": "code",
      "metadata": {
        "colab": {
          "base_uri": "https://localhost:8080/",
          "height": 868
        },
        "id": "uH4XAbJxAUGW",
        "outputId": "3a230cce-08f0-4c24-d942-bd3580469060"
      },
      "source": [
        "plt.figure(figsize=(16,12))\n",
        "sns.heatmap(data=df02.corr(),annot=True,fmt='.2f',cmap='coolwarm')\n",
        "plt.show()"
      ],
      "execution_count": 72,
      "outputs": [
        {
          "output_type": "display_data",
          "data": {
            "image/png": "[encoded data removed]",
            "text/plain": [
              "<Figure size 1152x864 with 2 Axes>"
            ]
          },
          "metadata": {
            "tags": [],
            "needs_background": "light"
          }
        }
      ]
    },
    {
      "cell_type": "markdown",
      "metadata": {
        "id": "_A-zNJVcyAAE"
      },
      "source": [
        "%\n",
        "% a1=pd.crosstab(df1.A09, df1.A14).plot(kind='bar')\n",
        "% a2=pd.crosstab(df1.A05, df1.A15)\n",
        "% a2.plot(kind='bar')\n",
        "% a2.plot.bar(figsize=(12,5), stacked=True)\n",
        "% a3=df['A2']\n",
        "% df.groupby(['A2']).count()\n",
        "% df_csv2= df[['A01','A10','BTB']]\n",
        "% df_csv2.describe()\n",
        "% a2=pd.crosstab(df['A10'], df['BTB']).plot(kind='bar')\n",
        "% plt.figure(figsize=(12,8)) \n",
        "% sns.heatmap(a2, annot=True, cmap=\"YlGnBu\")\n",
        "\n",
        "%# Chi-square test of independence. \n",
        "% c, p, dof, expected = chi2_contingency(a2) \n",
        "% Print the p-value\n",
        "% print('p = ',p)\n",
        "% print('c = ',c)\n",
        "% print('dof = ',dof)\n",
        "% print('expected = ',expected)#\n",
        "\n",
        "% # Chi-square test of independence. \n",
        "% c, p, dof, expected = chi2_contingency(a4) \n",
        "% Print the p-value\n",
        "% print('p = ',p)\n",
        "% print('c = ',c)\n",
        "% print('dof = ',dof)\n",
        "% print('expected = ',expected)\n",
        "\n",
        "% import scipy.stats as stats\n",
        "% # Perform the ANOVA\n",
        "% stats.f_oneway(Mot, Hai, Ba, Bon, Nam, Sau)\n",
        "\n",
        "% import statsmodels.api as sm\n",
        "% from statsmodels.formula.api import ols\n",
        "\n",
        "% model = ols('A13 ~ BTB',data = df_csv3).fit() # Model formula\n",
        "                \n",
        "% anova_result = sm.stats.anova_lm(model, typ=2)\n",
        "% print (anova_result)\n",
        "% model.summary()"
      ]
    },
    {
      "cell_type": "code",
      "metadata": {
        "id": "Mbuuz_KuuIXy"
      },
      "source": [
        ""
      ],
      "execution_count": null,
      "outputs": []
    }
  ]
}