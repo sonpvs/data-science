{
  "nbformat": 4,
  "nbformat_minor": 0,
  "metadata": {
    "colab": {
      "name": "phantich.ipynb",
      "provenance": [],
      "collapsed_sections": [],
      "authorship_tag": "ABX9TyMPB550aQqEtYyV21EWKPln",
      "include_colab_link": true
    },
    "kernelspec": {
      "name": "python3",
      "display_name": "Python 3"
    },
    "language_info": {
      "name": "python"
    }
  },
  "cells": [
    {
      "cell_type": "markdown",
      "metadata": {
        "id": "view-in-github",
        "colab_type": "text"
      },
      "source": [
        "<a href=\"https://colab.research.google.com/github/sonpvs/data-science/blob/main/phantich.ipynb\" target=\"_parent\"><img src=\"https://colab.research.google.com/assets/colab-badge.svg\" alt=\"Open In Colab\"/></a>"
      ]
    },
    {
      "cell_type": "code",
      "metadata": {
        "id": "bELI4hTUo0Tp"
      },
      "source": [
        "import pandas as pd\n",
        "import numpy as np\n",
        "from scipy.stats import chi2_contingency\n",
        "import seaborn as sns\n",
        "sns.color_palette(\"rocket_r\", as_cmap=True)\n",
        "import matplotlib.pyplot as plt\n",
        "%matplotlib inline"
      ],
      "execution_count": 65,
      "outputs": []
    },
    {
      "cell_type": "code",
      "metadata": {
        "colab": {
          "base_uri": "https://localhost:8080/"
        },
        "id": "fmL8WOq1qzgB",
        "outputId": "4faafe8f-9f6c-4475-f373-649112794e63"
      },
      "source": [
        "# Xác thực ổ đĩa Drive\n",
        "\n",
        "from google.colab import drive\n",
        "drive.mount('drive')"
      ],
      "execution_count": 5,
      "outputs": [
        {
          "output_type": "stream",
          "text": [
            "Mounted at drive\n"
          ],
          "name": "stdout"
        }
      ]
    },
    {
      "cell_type": "code",
      "metadata": {
        "id": "jU9Ykdb4rNrO"
      },
      "source": [
        "# Đọc file dữ liệu từ Drive\n",
        "df = pd.read_csv('drive/My Drive/Colab Notebooks/01. BDG/data_tomtat.csv')\n",
        "\n",
        "#df[['X1','X2']].head()"
      ],
      "execution_count": 6,
      "outputs": []
    },
    {
      "cell_type": "code",
      "metadata": {
        "id": "yepKAuFIsP0H",
        "colab": {
          "base_uri": "https://localhost:8080/",
          "height": 205
        },
        "outputId": "577a3c9e-47d2-4b9b-be33-1452d3ad4595"
      },
      "source": [
        "#df1 = df.iloc[:,0:17]\n",
        "df.head()"
      ],
      "execution_count": 4,
      "outputs": [
        {
          "output_type": "execute_result",
          "data": {
            "text/html": [
              "<div>\n",
              "<style scoped>\n",
              "    .dataframe tbody tr th:only-of-type {\n",
              "        vertical-align: middle;\n",
              "    }\n",
              "\n",
              "    .dataframe tbody tr th {\n",
              "        vertical-align: top;\n",
              "    }\n",
              "\n",
              "    .dataframe thead th {\n",
              "        text-align: right;\n",
              "    }\n",
              "</style>\n",
              "<table border=\"1\" class=\"dataframe\">\n",
              "  <thead>\n",
              "    <tr style=\"text-align: right;\">\n",
              "      <th></th>\n",
              "      <th>Unnamed: 0</th>\n",
              "      <th>X1</th>\n",
              "      <th>X2</th>\n",
              "      <th>X3</th>\n",
              "      <th>X4</th>\n",
              "      <th>X5</th>\n",
              "      <th>X6</th>\n",
              "      <th>X7</th>\n",
              "      <th>J1</th>\n",
              "      <th>J2</th>\n",
              "      <th>J3</th>\n",
              "      <th>J4</th>\n",
              "      <th>J5</th>\n",
              "      <th>J6</th>\n",
              "      <th>K1</th>\n",
              "    </tr>\n",
              "  </thead>\n",
              "  <tbody>\n",
              "    <tr>\n",
              "      <th>0</th>\n",
              "      <td>0</td>\n",
              "      <td>47</td>\n",
              "      <td>7</td>\n",
              "      <td>18</td>\n",
              "      <td>2</td>\n",
              "      <td>2</td>\n",
              "      <td>4</td>\n",
              "      <td>2.0</td>\n",
              "      <td>3.250000</td>\n",
              "      <td>4.812500</td>\n",
              "      <td>4.031250</td>\n",
              "      <td>3.463068</td>\n",
              "      <td>3.926136</td>\n",
              "      <td>3.806818</td>\n",
              "      <td>3.881629</td>\n",
              "    </tr>\n",
              "    <tr>\n",
              "      <th>1</th>\n",
              "      <td>1</td>\n",
              "      <td>37</td>\n",
              "      <td>5</td>\n",
              "      <td>19</td>\n",
              "      <td>2</td>\n",
              "      <td>4</td>\n",
              "      <td>1</td>\n",
              "      <td>2.0</td>\n",
              "      <td>2.000000</td>\n",
              "      <td>3.250000</td>\n",
              "      <td>2.625000</td>\n",
              "      <td>2.534091</td>\n",
              "      <td>2.901515</td>\n",
              "      <td>2.686869</td>\n",
              "      <td>2.666246</td>\n",
              "    </tr>\n",
              "    <tr>\n",
              "      <th>2</th>\n",
              "      <td>2</td>\n",
              "      <td>28</td>\n",
              "      <td>9</td>\n",
              "      <td>18</td>\n",
              "      <td>3</td>\n",
              "      <td>2</td>\n",
              "      <td>5</td>\n",
              "      <td>1.0</td>\n",
              "      <td>2.333333</td>\n",
              "      <td>3.833333</td>\n",
              "      <td>3.083333</td>\n",
              "      <td>2.840909</td>\n",
              "      <td>3.348485</td>\n",
              "      <td>3.090909</td>\n",
              "      <td>3.088384</td>\n",
              "    </tr>\n",
              "    <tr>\n",
              "      <th>3</th>\n",
              "      <td>3</td>\n",
              "      <td>45</td>\n",
              "      <td>9</td>\n",
              "      <td>23</td>\n",
              "      <td>2</td>\n",
              "      <td>2</td>\n",
              "      <td>4</td>\n",
              "      <td>3.0</td>\n",
              "      <td>4.666667</td>\n",
              "      <td>4.666667</td>\n",
              "      <td>4.666667</td>\n",
              "      <td>4.666667</td>\n",
              "      <td>4.444444</td>\n",
              "      <td>4.592593</td>\n",
              "      <td>4.617284</td>\n",
              "    </tr>\n",
              "    <tr>\n",
              "      <th>4</th>\n",
              "      <td>4</td>\n",
              "      <td>28</td>\n",
              "      <td>11</td>\n",
              "      <td>23</td>\n",
              "      <td>2</td>\n",
              "      <td>2</td>\n",
              "      <td>4</td>\n",
              "      <td>3.0</td>\n",
              "      <td>3.666667</td>\n",
              "      <td>5.916667</td>\n",
              "      <td>4.791667</td>\n",
              "      <td>3.852273</td>\n",
              "      <td>5.037879</td>\n",
              "      <td>4.560606</td>\n",
              "      <td>4.637626</td>\n",
              "    </tr>\n",
              "  </tbody>\n",
              "</table>\n",
              "</div>"
            ],
            "text/plain": [
              "   Unnamed: 0  X1  X2  X3  X4  ...        J3        J4        J5        J6        K1\n",
              "0           0  47   7  18   2  ...  4.031250  3.463068  3.926136  3.806818  3.881629\n",
              "1           1  37   5  19   2  ...  2.625000  2.534091  2.901515  2.686869  2.666246\n",
              "2           2  28   9  18   3  ...  3.083333  2.840909  3.348485  3.090909  3.088384\n",
              "3           3  45   9  23   2  ...  4.666667  4.666667  4.444444  4.592593  4.617284\n",
              "4           4  28  11  23   2  ...  4.791667  3.852273  5.037879  4.560606  4.637626\n",
              "\n",
              "[5 rows x 15 columns]"
            ]
          },
          "metadata": {
            "tags": []
          },
          "execution_count": 4
        }
      ]
    },
    {
      "cell_type": "code",
      "metadata": {
        "id": "wzK9XLV_tuN2"
      },
      "source": [
        "df = df.drop(df.columns[0], axis=1)  # df.columns is zero-based pd.Index  "
      ],
      "execution_count": 7,
      "outputs": []
    },
    {
      "cell_type": "code",
      "metadata": {
        "id": "QH_OwIkKt0WD",
        "colab": {
          "base_uri": "https://localhost:8080/",
          "height": 205
        },
        "outputId": "15aad887-8bbf-417f-d54a-d50479eee9b3"
      },
      "source": [
        "df.head()"
      ],
      "execution_count": 8,
      "outputs": [
        {
          "output_type": "execute_result",
          "data": {
            "text/html": [
              "<div>\n",
              "<style scoped>\n",
              "    .dataframe tbody tr th:only-of-type {\n",
              "        vertical-align: middle;\n",
              "    }\n",
              "\n",
              "    .dataframe tbody tr th {\n",
              "        vertical-align: top;\n",
              "    }\n",
              "\n",
              "    .dataframe thead th {\n",
              "        text-align: right;\n",
              "    }\n",
              "</style>\n",
              "<table border=\"1\" class=\"dataframe\">\n",
              "  <thead>\n",
              "    <tr style=\"text-align: right;\">\n",
              "      <th></th>\n",
              "      <th>X1</th>\n",
              "      <th>X2</th>\n",
              "      <th>X3</th>\n",
              "      <th>X4</th>\n",
              "      <th>X5</th>\n",
              "      <th>X6</th>\n",
              "      <th>X7</th>\n",
              "      <th>J1</th>\n",
              "      <th>J2</th>\n",
              "      <th>J3</th>\n",
              "      <th>J4</th>\n",
              "      <th>J5</th>\n",
              "      <th>J6</th>\n",
              "      <th>K1</th>\n",
              "    </tr>\n",
              "  </thead>\n",
              "  <tbody>\n",
              "    <tr>\n",
              "      <th>0</th>\n",
              "      <td>47</td>\n",
              "      <td>7</td>\n",
              "      <td>18</td>\n",
              "      <td>2</td>\n",
              "      <td>2</td>\n",
              "      <td>4</td>\n",
              "      <td>2.0</td>\n",
              "      <td>3.250000</td>\n",
              "      <td>4.812500</td>\n",
              "      <td>4.031250</td>\n",
              "      <td>3.463068</td>\n",
              "      <td>3.926136</td>\n",
              "      <td>3.806818</td>\n",
              "      <td>3.881629</td>\n",
              "    </tr>\n",
              "    <tr>\n",
              "      <th>1</th>\n",
              "      <td>37</td>\n",
              "      <td>5</td>\n",
              "      <td>19</td>\n",
              "      <td>2</td>\n",
              "      <td>4</td>\n",
              "      <td>1</td>\n",
              "      <td>2.0</td>\n",
              "      <td>2.000000</td>\n",
              "      <td>3.250000</td>\n",
              "      <td>2.625000</td>\n",
              "      <td>2.534091</td>\n",
              "      <td>2.901515</td>\n",
              "      <td>2.686869</td>\n",
              "      <td>2.666246</td>\n",
              "    </tr>\n",
              "    <tr>\n",
              "      <th>2</th>\n",
              "      <td>28</td>\n",
              "      <td>9</td>\n",
              "      <td>18</td>\n",
              "      <td>3</td>\n",
              "      <td>2</td>\n",
              "      <td>5</td>\n",
              "      <td>1.0</td>\n",
              "      <td>2.333333</td>\n",
              "      <td>3.833333</td>\n",
              "      <td>3.083333</td>\n",
              "      <td>2.840909</td>\n",
              "      <td>3.348485</td>\n",
              "      <td>3.090909</td>\n",
              "      <td>3.088384</td>\n",
              "    </tr>\n",
              "    <tr>\n",
              "      <th>3</th>\n",
              "      <td>45</td>\n",
              "      <td>9</td>\n",
              "      <td>23</td>\n",
              "      <td>2</td>\n",
              "      <td>2</td>\n",
              "      <td>4</td>\n",
              "      <td>3.0</td>\n",
              "      <td>4.666667</td>\n",
              "      <td>4.666667</td>\n",
              "      <td>4.666667</td>\n",
              "      <td>4.666667</td>\n",
              "      <td>4.444444</td>\n",
              "      <td>4.592593</td>\n",
              "      <td>4.617284</td>\n",
              "    </tr>\n",
              "    <tr>\n",
              "      <th>4</th>\n",
              "      <td>28</td>\n",
              "      <td>11</td>\n",
              "      <td>23</td>\n",
              "      <td>2</td>\n",
              "      <td>2</td>\n",
              "      <td>4</td>\n",
              "      <td>3.0</td>\n",
              "      <td>3.666667</td>\n",
              "      <td>5.916667</td>\n",
              "      <td>4.791667</td>\n",
              "      <td>3.852273</td>\n",
              "      <td>5.037879</td>\n",
              "      <td>4.560606</td>\n",
              "      <td>4.637626</td>\n",
              "    </tr>\n",
              "  </tbody>\n",
              "</table>\n",
              "</div>"
            ],
            "text/plain": [
              "   X1  X2  X3  X4  X5  ...        J3        J4        J5        J6        K1\n",
              "0  47   7  18   2   2  ...  4.031250  3.463068  3.926136  3.806818  3.881629\n",
              "1  37   5  19   2   4  ...  2.625000  2.534091  2.901515  2.686869  2.666246\n",
              "2  28   9  18   3   2  ...  3.083333  2.840909  3.348485  3.090909  3.088384\n",
              "3  45   9  23   2   2  ...  4.666667  4.666667  4.444444  4.592593  4.617284\n",
              "4  28  11  23   2   2  ...  4.791667  3.852273  5.037879  4.560606  4.637626\n",
              "\n",
              "[5 rows x 14 columns]"
            ]
          },
          "metadata": {
            "tags": []
          },
          "execution_count": 8
        }
      ]
    },
    {
      "cell_type": "code",
      "metadata": {
        "id": "nhwypUzegg_Q"
      },
      "source": [
        "df_ten = pd.read_excel('drive/My Drive/Colab Notebooks/01. BDG/Data_Header.xlsx')"
      ],
      "execution_count": 9,
      "outputs": []
    },
    {
      "cell_type": "code",
      "metadata": {
        "colab": {
          "base_uri": "https://localhost:8080/",
          "height": 35
        },
        "id": "jvbBR44lhmVo",
        "outputId": "873f231d-e33b-4eff-a118-753f756d9a46"
      },
      "source": [
        "df_ten['X1'][0]"
      ],
      "execution_count": 14,
      "outputs": [
        {
          "output_type": "execute_result",
          "data": {
            "application/vnd.google.colaboratory.intrinsic+json": {
              "type": "string"
            },
            "text/plain": [
              "'TUỔI'"
            ]
          },
          "metadata": {
            "tags": []
          },
          "execution_count": 14
        }
      ]
    },
    {
      "cell_type": "code",
      "metadata": {
        "id": "o_B-EEV3hvps"
      },
      "source": [
        "list_ten = []\n",
        "\n",
        "for st in df.columns:\n",
        "  list_ten.append(df_ten[st][0])\n"
      ],
      "execution_count": 10,
      "outputs": []
    },
    {
      "cell_type": "code",
      "metadata": {
        "colab": {
          "base_uri": "https://localhost:8080/"
        },
        "id": "4oU8aGuoiQ8O",
        "outputId": "e5f4ab70-8a1a-449d-a5fd-341ad28e4143"
      },
      "source": [
        "list_ten"
      ],
      "execution_count": 11,
      "outputs": [
        {
          "output_type": "execute_result",
          "data": {
            "text/plain": [
              "['TUỔI',\n",
              " 'HỌC VẤN',\n",
              " 'TUỔI KẾT HÔN',\n",
              " 'HÔN NHÂN',\n",
              " 'SỐ CON',\n",
              " 'NGHỀ NGHIỆP',\n",
              " 'THU NHẬP',\n",
              " 'TB QUYỀN QUYẾT ĐỊNH SẢN XUẤT',\n",
              " 'TB QUYẾT ĐỊNH TÍN DỤNG',\n",
              " 'TB QUYẾT ĐỊNH CHI TIÊU GIA ĐÌNH',\n",
              " 'TB QUYỀN SỞ HỮU TÀI SẢN',\n",
              " 'TB QUYỀN THAM GIA XÃ HỘI',\n",
              " 'TB QUYỀN SD THỜI GIAN',\n",
              " 'TB BẤT BĐ GIỚI']"
            ]
          },
          "metadata": {
            "tags": []
          },
          "execution_count": 11
        }
      ]
    },
    {
      "cell_type": "code",
      "metadata": {
        "id": "ZCNdjUETihhT"
      },
      "source": [
        "# Phân nhóm Tuoi\n",
        "# Tuổi : 22 đến  29 =  1;   30 đến  45 = 2;   Trên 45 = 3\n",
        "\n",
        "df['NhomTuoi']=0\n",
        "\n",
        "def nhtuoi(a):\n",
        "    if (a >= 22) & (a<=29):\n",
        "       return 1\n",
        "    elif (a >= 30) & (a<=45):\n",
        "       return 2\n",
        "    else:\n",
        "       return 3\n",
        "\n",
        "\n",
        "# Chạy từng dòng để nhóm độ tuổi\n",
        "for row in df.index:\n",
        "    c= df.iloc[row]['X1']\n",
        "    df.iloc[row, df.columns.get_loc('NhomTuoi')] = nhtuoi(c)"
      ],
      "execution_count": 12,
      "outputs": []
    },
    {
      "cell_type": "code",
      "metadata": {
        "colab": {
          "base_uri": "https://localhost:8080/"
        },
        "id": "d8QOUo0sj4EO",
        "outputId": "f1144e0e-29c0-4a1b-dc72-433489c3f2b9"
      },
      "source": [
        "df['NhomTuoi'].describe()"
      ],
      "execution_count": 13,
      "outputs": [
        {
          "output_type": "execute_result",
          "data": {
            "text/plain": [
              "count    1370.000000\n",
              "mean        1.816058\n",
              "std         0.670601\n",
              "min         1.000000\n",
              "25%         1.000000\n",
              "50%         2.000000\n",
              "75%         2.000000\n",
              "max         3.000000\n",
              "Name: NhomTuoi, dtype: float64"
            ]
          },
          "metadata": {
            "tags": []
          },
          "execution_count": 13
        }
      ]
    },
    {
      "cell_type": "code",
      "metadata": {
        "id": "wIADMde9kRJP"
      },
      "source": [
        "# Phân nhóm Hoc van\n",
        "# Học vấn: 5 đến  7 = 0;   9 đến 15 = 1\n",
        "\n",
        "df['NhomHocvan']=0\n",
        "\n",
        "def nh_Hocvan(a):\n",
        "    if (a >= 5) & (a<=8):\n",
        "       return 0\n",
        "    elif (a >= 9) & (a<=15):\n",
        "       return 1\n",
        "\n",
        "# Chạy từng dòng để nhóm học vấn\n",
        "for row in df.index:\n",
        "    c= df.iloc[row]['X2']\n",
        "    df.iloc[row, df.columns.get_loc('NhomHocvan')] = nh_Hocvan(c)\n"
      ],
      "execution_count": 15,
      "outputs": []
    },
    {
      "cell_type": "code",
      "metadata": {
        "colab": {
          "base_uri": "https://localhost:8080/"
        },
        "id": "nPSe_4pql3Vw",
        "outputId": "77a71bd2-cb2f-4109-acef-fdd6b35f13da"
      },
      "source": [
        "df['NhomHocvan'].describe()"
      ],
      "execution_count": 16,
      "outputs": [
        {
          "output_type": "execute_result",
          "data": {
            "text/plain": [
              "count    1370.000000\n",
              "mean        0.630657\n",
              "std         0.482803\n",
              "min         0.000000\n",
              "25%         0.000000\n",
              "50%         1.000000\n",
              "75%         1.000000\n",
              "max         1.000000\n",
              "Name: NhomHocvan, dtype: float64"
            ]
          },
          "metadata": {
            "tags": []
          },
          "execution_count": 16
        }
      ]
    },
    {
      "cell_type": "code",
      "metadata": {
        "id": "55uBWSThmBpp"
      },
      "source": [
        "# Phân nhóm Tuổi kết hôn\n",
        "#Tuổi kết hôn: 16 đến 18 = 0; 19 đến  27 = 1\n",
        "\n",
        "df['NhomTuoiKH']=0\n",
        "\n",
        "def nh_TuoiKH(a):\n",
        "    if (a >= 16) & (a<=18):\n",
        "       return 0\n",
        "    elif (a >= 19) & (a<=27):\n",
        "       return 1\n",
        "\n",
        "for row in df.index:\n",
        "    c= df.iloc[row]['X3']\n",
        "    df.iloc[row, df.columns.get_loc('NhomTuoiKH')] = nh_TuoiKH(c)"
      ],
      "execution_count": 17,
      "outputs": []
    },
    {
      "cell_type": "code",
      "metadata": {
        "colab": {
          "base_uri": "https://localhost:8080/"
        },
        "id": "ax9zjIERmppU",
        "outputId": "5e287b8b-689c-4612-ab32-729a032b089b"
      },
      "source": [
        "df['NhomTuoiKH'].describe()"
      ],
      "execution_count": 18,
      "outputs": [
        {
          "output_type": "execute_result",
          "data": {
            "text/plain": [
              "count    1370.000000\n",
              "mean        0.527007\n",
              "std         0.499452\n",
              "min         0.000000\n",
              "25%         0.000000\n",
              "50%         1.000000\n",
              "75%         1.000000\n",
              "max         1.000000\n",
              "Name: NhomTuoiKH, dtype: float64"
            ]
          },
          "metadata": {
            "tags": []
          },
          "execution_count": 18
        }
      ]
    },
    {
      "cell_type": "code",
      "metadata": {
        "id": "PDL1XJ_smyuZ"
      },
      "source": [
        "# Phân nhóm Số con\n",
        "# Số con: 1 đến 2 = 1; 3 đến 5 = 0 \n",
        "\n",
        "df['NhomSocon']=0\n",
        "\n",
        "def nh_TuoiSocon(a):\n",
        "    if (a >= 1) & (a<=2):\n",
        "       return 1\n",
        "    elif (a >= 3) & (a<=5):\n",
        "       return 0\n",
        "\n",
        "for row in df.index:\n",
        "    c= df.iloc[row]['X5']\n",
        "    df.iloc[row, df.columns.get_loc('NhomSocon')] = nh_TuoiSocon(c)"
      ],
      "execution_count": 14,
      "outputs": []
    },
    {
      "cell_type": "code",
      "metadata": {
        "colab": {
          "base_uri": "https://localhost:8080/"
        },
        "id": "y3mp22fRnWNP",
        "outputId": "47b53aa4-b6a7-4577-bd2b-7d9b4b525dde"
      },
      "source": [
        "df['NhomSocon'].describe()"
      ],
      "execution_count": 19,
      "outputs": [
        {
          "output_type": "execute_result",
          "data": {
            "text/plain": [
              "count    1370.000000\n",
              "mean        0.478832\n",
              "std         0.499734\n",
              "min         0.000000\n",
              "25%         0.000000\n",
              "50%         0.000000\n",
              "75%         1.000000\n",
              "max         1.000000\n",
              "Name: NhomSocon, dtype: float64"
            ]
          },
          "metadata": {
            "tags": []
          },
          "execution_count": 19
        }
      ]
    },
    {
      "cell_type": "code",
      "metadata": {
        "colab": {
          "base_uri": "https://localhost:8080/"
        },
        "id": "tgJzT_e2qfPS",
        "outputId": "3d199a9c-ea57-4bca-bef1-61d6606f1594"
      },
      "source": [
        "Tuoi_group = df.groupby(df['NhomTuoi'])\n",
        "#Tuoi_group.describe()['J1']\n",
        "\n",
        "for t in range(1,7):\n",
        "  print('So sánh sự khác biệt giữa 3 nhóm tuổi (1,2,3) với biến số ',df_ten['J'+ str(t) + ''][0] )\n",
        "  print('Trung bình của Nhóm 1:', \"{:.2f}\".format(Tuoi_group['J'+ str(t) + ''].mean()[1]))\n",
        "  print('Trung bình của Nhóm 2:', \"{:.2f}\".format(Tuoi_group['J'+ str(t) + ''].mean()[2]))\n",
        "  print('Trung bình của Nhóm 3:', \"{:.2f}\".format(Tuoi_group['J'+ str(t) + ''].mean()[3]))"
      ],
      "execution_count": 20,
      "outputs": [
        {
          "output_type": "stream",
          "text": [
            "So sánh sự khác biệt giữa 3 nhóm tuổi (1,2,3) với biến số  TB QUYỀN QUYẾT ĐỊNH SẢN XUẤT\n",
            "Trung bình của Nhóm 1: 3.03\n",
            "Trung bình của Nhóm 2: 3.02\n",
            "Trung bình của Nhóm 3: 2.80\n",
            "So sánh sự khác biệt giữa 3 nhóm tuổi (1,2,3) với biến số  TB QUYẾT ĐỊNH TÍN DỤNG\n",
            "Trung bình của Nhóm 1: 5.48\n",
            "Trung bình của Nhóm 2: 4.77\n",
            "Trung bình của Nhóm 3: 4.60\n",
            "So sánh sự khác biệt giữa 3 nhóm tuổi (1,2,3) với biến số  TB QUYẾT ĐỊNH CHI TIÊU GIA ĐÌNH\n",
            "Trung bình của Nhóm 1: 4.26\n",
            "Trung bình của Nhóm 2: 3.89\n",
            "Trung bình của Nhóm 3: 3.70\n",
            "So sánh sự khác biệt giữa 3 nhóm tuổi (1,2,3) với biến số  TB QUYỀN SỞ HỮU TÀI SẢN\n",
            "Trung bình của Nhóm 1: 3.65\n",
            "Trung bình của Nhóm 2: 3.36\n",
            "Trung bình của Nhóm 3: 3.19\n",
            "So sánh sự khác biệt giữa 3 nhóm tuổi (1,2,3) với biến số  TB QUYỀN THAM GIA XÃ HỘI\n",
            "Trung bình của Nhóm 1: 4.28\n",
            "Trung bình của Nhóm 2: 3.88\n",
            "Trung bình của Nhóm 3: 3.71\n",
            "So sánh sự khác biệt giữa 3 nhóm tuổi (1,2,3) với biến số  TB QUYỀN SD THỜI GIAN\n",
            "Trung bình của Nhóm 1: 4.06\n",
            "Trung bình của Nhóm 2: 3.71\n",
            "Trung bình của Nhóm 3: 3.53\n"
          ],
          "name": "stdout"
        }
      ]
    },
    {
      "cell_type": "code",
      "metadata": {
        "colab": {
          "base_uri": "https://localhost:8080/"
        },
        "id": "7iSUr4wRtJPV",
        "outputId": "ced5ce02-4754-4471-f411-77ca636e6f3f"
      },
      "source": [
        "\n",
        "Hocvan_group = df.groupby(df['NhomHocvan'])\n",
        "#Tuoi_group.describe()['J1']\n",
        "\n",
        "for t in range(1,7):\n",
        "  print('So sánh sự khác biệt giữa 3 nhóm học vấn (0,1) với biến số ',df_ten['J'+ str(t) + ''][0] )\n",
        "  print('Trung bình của Nhóm 0:', \"{:.2f}\".format(Hocvan_group['J'+ str(t) + ''].mean()[0]))\n",
        "  print('Trung bình của Nhóm 1:', \"{:.2f}\".format(Hocvan_group['J'+ str(t) + ''].mean()[1]))"
      ],
      "execution_count": 21,
      "outputs": [
        {
          "output_type": "stream",
          "text": [
            "So sánh sự khác biệt giữa 3 nhóm học vấn (0,1) với biến số  TB QUYỀN QUYẾT ĐỊNH SẢN XUẤT\n",
            "Trung bình của Nhóm 0: 2.55\n",
            "Trung bình của Nhóm 1: 3.25\n",
            "So sánh sự khác biệt giữa 3 nhóm học vấn (0,1) với biến số  TB QUYẾT ĐỊNH TÍN DỤNG\n",
            "Trung bình của Nhóm 0: 4.41\n",
            "Trung bình của Nhóm 1: 5.31\n",
            "So sánh sự khác biệt giữa 3 nhóm học vấn (0,1) với biến số  TB QUYẾT ĐỊNH CHI TIÊU GIA ĐÌNH\n",
            "Trung bình của Nhóm 0: 3.48\n",
            "Trung bình của Nhóm 1: 4.28\n",
            "So sánh sự khác biệt giữa 3 nhóm học vấn (0,1) với biến số  TB QUYỀN SỞ HỮU TÀI SẢN\n",
            "Trung bình của Nhóm 0: 3.05\n",
            "Trung bình của Nhóm 1: 3.66\n",
            "So sánh sự khác biệt giữa 3 nhóm học vấn (0,1) với biến số  TB QUYỀN THAM GIA XÃ HỘI\n",
            "Trung bình của Nhóm 0: 3.54\n",
            "Trung bình của Nhóm 1: 4.25\n",
            "So sánh sự khác biệt giữa 3 nhóm học vấn (0,1) với biến số  TB QUYỀN SD THỜI GIAN\n",
            "Trung bình của Nhóm 0: 3.36\n",
            "Trung bình của Nhóm 1: 4.06\n"
          ],
          "name": "stdout"
        }
      ]
    },
    {
      "cell_type": "code",
      "metadata": {
        "colab": {
          "base_uri": "https://localhost:8080/"
        },
        "id": "qlNyeplsuAgT",
        "outputId": "a0e5321e-a377-47fd-ee61-80e839e4c0d3"
      },
      "source": [
        "#Tuổi kết hôn\n",
        "TuoiKH_group = df.groupby(df['NhomTuoiKH'])\n",
        "\n",
        "for t in range(1,7):\n",
        "  print('So sánh sự khác biệt giữa 2 nhóm tuổi kết hôn (0,1) với biến số ',df_ten['J'+ str(t) + ''][0] )\n",
        "  print('Trung bình của Nhóm 0:', \"{:.2f}\".format(TuoiKH_group['J'+ str(t) + ''].mean()[0]))\n",
        "  print('Trung bình của Nhóm 1:', \"{:.2f}\".format(TuoiKH_group['J'+ str(t) + ''].mean()[1]))"
      ],
      "execution_count": 22,
      "outputs": [
        {
          "output_type": "stream",
          "text": [
            "So sánh sự khác biệt giữa 2 nhóm tuổi kết hôn (0,1) với biến số  TB QUYỀN QUYẾT ĐỊNH SẢN XUẤT\n",
            "Trung bình của Nhóm 0: 2.77\n",
            "Trung bình của Nhóm 1: 3.20\n",
            "So sánh sự khác biệt giữa 2 nhóm tuổi kết hôn (0,1) với biến số  TB QUYẾT ĐỊNH TÍN DỤNG\n",
            "Trung bình của Nhóm 0: 4.70\n",
            "Trung bình của Nhóm 1: 5.23\n",
            "So sánh sự khác biệt giữa 2 nhóm tuổi kết hôn (0,1) với biến số  TB QUYẾT ĐỊNH CHI TIÊU GIA ĐÌNH\n",
            "Trung bình của Nhóm 0: 3.74\n",
            "Trung bình của Nhóm 1: 4.21\n",
            "So sánh sự khác biệt giữa 2 nhóm tuổi kết hôn (0,1) với biến số  TB QUYỀN SỞ HỮU TÀI SẢN\n",
            "Trung bình của Nhóm 0: 3.24\n",
            "Trung bình của Nhóm 1: 3.60\n",
            "So sánh sự khác biệt giữa 2 nhóm tuổi kết hôn (0,1) với biến số  TB QUYỀN THAM GIA XÃ HỘI\n",
            "Trung bình của Nhóm 0: 3.77\n",
            "Trung bình của Nhóm 1: 4.18\n",
            "So sánh sự khác biệt giữa 2 nhóm tuổi kết hôn (0,1) với biến số  TB QUYỀN SD THỜI GIAN\n",
            "Trung bình của Nhóm 0: 3.58\n",
            "Trung bình của Nhóm 1: 4.00\n"
          ],
          "name": "stdout"
        }
      ]
    },
    {
      "cell_type": "code",
      "metadata": {
        "colab": {
          "base_uri": "https://localhost:8080/"
        },
        "id": "C4-qVBcAvAii",
        "outputId": "d9ea6598-84e3-460c-94dd-3f308a5ee445"
      },
      "source": [
        "#Số con\n",
        "Socon_group = df.groupby(df['NhomSocon'])\n",
        "\n",
        "for t in range(1,7):\n",
        "  print('So sánh sự khác biệt giữa 2 nhóm Số con (0,1) với biến số ',df_ten['J'+ str(t) + ''][0] )\n",
        "  print('Trung bình của Nhóm 0:', \"{:.2f}\".format(Socon_group['J'+ str(t) + ''].mean()[0]))\n",
        "  print('Trung bình của Nhóm 1:', \"{:.2f}\".format(Socon_group['J'+ str(t) + ''].mean()[1]))\n"
      ],
      "execution_count": 23,
      "outputs": [
        {
          "output_type": "stream",
          "text": [
            "So sánh sự khác biệt giữa 2 nhóm Số con (0,1) với biến số  TB QUYỀN QUYẾT ĐỊNH SẢN XUẤT\n",
            "Trung bình của Nhóm 0: 2.72\n",
            "Trung bình của Nhóm 1: 3.29\n",
            "So sánh sự khác biệt giữa 2 nhóm Số con (0,1) với biến số  TB QUYẾT ĐỊNH TÍN DỤNG\n",
            "Trung bình của Nhóm 0: 4.75\n",
            "Trung bình của Nhóm 1: 5.23\n",
            "So sánh sự khác biệt giữa 2 nhóm Số con (0,1) với biến số  TB QUYẾT ĐỊNH CHI TIÊU GIA ĐÌNH\n",
            "Trung bình của Nhóm 0: 3.73\n",
            "Trung bình của Nhóm 1: 4.26\n",
            "So sánh sự khác biệt giữa 2 nhóm Số con (0,1) với biến số  TB QUYỀN SỞ HỮU TÀI SẢN\n",
            "Trung bình của Nhóm 0: 3.23\n",
            "Trung bình của Nhóm 1: 3.66\n",
            "So sánh sự khác biệt giữa 2 nhóm Số con (0,1) với biến số  TB QUYỀN THAM GIA XÃ HỘI\n",
            "Trung bình của Nhóm 0: 3.82\n",
            "Trung bình của Nhóm 1: 4.17\n",
            "So sánh sự khác biệt giữa 2 nhóm Số con (0,1) với biến số  TB QUYỀN SD THỜI GIAN\n",
            "Trung bình của Nhóm 0: 3.59\n",
            "Trung bình của Nhóm 1: 4.03\n"
          ],
          "name": "stdout"
        }
      ]
    },
    {
      "cell_type": "code",
      "metadata": {
        "id": "ueyXW31Tvhw4"
      },
      "source": [
        "tencot = df.columns"
      ],
      "execution_count": 24,
      "outputs": []
    },
    {
      "cell_type": "code",
      "metadata": {
        "colab": {
          "base_uri": "https://localhost:8080/"
        },
        "id": "BDScKY5HvxIN",
        "outputId": "d29aa442-df63-49a9-f728-dff1388e3937"
      },
      "source": [
        "tencot"
      ],
      "execution_count": 25,
      "outputs": [
        {
          "output_type": "execute_result",
          "data": {
            "text/plain": [
              "Index(['X1', 'X2', 'X3', 'X4', 'X5', 'X6', 'X7', 'J1', 'J2', 'J3', 'J4', 'J5',\n",
              "       'J6', 'K1', 'NhomTuoi', 'NhomSocon', 'NhomHocvan', 'NhomTuoiKH'],\n",
              "      dtype='object')"
            ]
          },
          "metadata": {
            "tags": []
          },
          "execution_count": 25
        }
      ]
    },
    {
      "cell_type": "code",
      "metadata": {
        "colab": {
          "base_uri": "https://localhost:8080/"
        },
        "id": "4Yy6jlVVxiUk",
        "outputId": "30317b45-c7d1-4f0a-d5b8-1ca8c37fb33f"
      },
      "source": [
        "print(df['X2'].value_counts()) "
      ],
      "execution_count": 48,
      "outputs": [
        {
          "output_type": "stream",
          "text": [
            "9     433\n",
            "5     351\n",
            "11    234\n",
            "7     155\n",
            "12    115\n",
            "15     82\n",
            "Name: X2, dtype: int64\n"
          ],
          "name": "stdout"
        }
      ]
    },
    {
      "cell_type": "code",
      "metadata": {
        "id": "atCkwNWD7wxh"
      },
      "source": [
        "df['X1_tmp'] = df['X1']\n",
        "df['X1'] = df['NhomTuoi']"
      ],
      "execution_count": 26,
      "outputs": []
    },
    {
      "cell_type": "code",
      "metadata": {
        "id": "3MBT1PS68DFq"
      },
      "source": [
        "df['X2_tmp'] = df['X2']\n",
        "df['X2'] = df['NhomHocvan']"
      ],
      "execution_count": 27,
      "outputs": []
    },
    {
      "cell_type": "code",
      "metadata": {
        "id": "XMk7ergc8JWC"
      },
      "source": [
        "df['X3_tmp'] = df['X3']\n",
        "df['X3'] = df['NhomTuoiKH']"
      ],
      "execution_count": 28,
      "outputs": []
    },
    {
      "cell_type": "code",
      "metadata": {
        "id": "pybaLHsP8TVf"
      },
      "source": [
        "df['X5_tmp'] = df['X5']\n",
        "df['X5'] = df['NhomSocon'] "
      ],
      "execution_count": 29,
      "outputs": []
    },
    {
      "cell_type": "code",
      "metadata": {
        "colab": {
          "base_uri": "https://localhost:8080/",
          "height": 205
        },
        "id": "5ubiD0Wx8lJQ",
        "outputId": "cbee4de3-3338-4dfb-ab2a-6baac7c49ff9"
      },
      "source": [
        "df.head(5)\n"
      ],
      "execution_count": 30,
      "outputs": [
        {
          "output_type": "execute_result",
          "data": {
            "text/html": [
              "<div>\n",
              "<style scoped>\n",
              "    .dataframe tbody tr th:only-of-type {\n",
              "        vertical-align: middle;\n",
              "    }\n",
              "\n",
              "    .dataframe tbody tr th {\n",
              "        vertical-align: top;\n",
              "    }\n",
              "\n",
              "    .dataframe thead th {\n",
              "        text-align: right;\n",
              "    }\n",
              "</style>\n",
              "<table border=\"1\" class=\"dataframe\">\n",
              "  <thead>\n",
              "    <tr style=\"text-align: right;\">\n",
              "      <th></th>\n",
              "      <th>X1</th>\n",
              "      <th>X2</th>\n",
              "      <th>X3</th>\n",
              "      <th>X4</th>\n",
              "      <th>X5</th>\n",
              "      <th>X6</th>\n",
              "      <th>X7</th>\n",
              "      <th>J1</th>\n",
              "      <th>J2</th>\n",
              "      <th>J3</th>\n",
              "      <th>J4</th>\n",
              "      <th>J5</th>\n",
              "      <th>J6</th>\n",
              "      <th>K1</th>\n",
              "      <th>NhomTuoi</th>\n",
              "      <th>NhomSocon</th>\n",
              "      <th>NhomHocvan</th>\n",
              "      <th>NhomTuoiKH</th>\n",
              "      <th>X1_tmp</th>\n",
              "      <th>X2_tmp</th>\n",
              "      <th>X3_tmp</th>\n",
              "      <th>X5_tmp</th>\n",
              "    </tr>\n",
              "  </thead>\n",
              "  <tbody>\n",
              "    <tr>\n",
              "      <th>0</th>\n",
              "      <td>3</td>\n",
              "      <td>0</td>\n",
              "      <td>0</td>\n",
              "      <td>2</td>\n",
              "      <td>1</td>\n",
              "      <td>4</td>\n",
              "      <td>2.0</td>\n",
              "      <td>3.250000</td>\n",
              "      <td>4.812500</td>\n",
              "      <td>4.031250</td>\n",
              "      <td>3.463068</td>\n",
              "      <td>3.926136</td>\n",
              "      <td>3.806818</td>\n",
              "      <td>3.881629</td>\n",
              "      <td>3</td>\n",
              "      <td>1</td>\n",
              "      <td>0</td>\n",
              "      <td>0</td>\n",
              "      <td>47</td>\n",
              "      <td>7</td>\n",
              "      <td>18</td>\n",
              "      <td>2</td>\n",
              "    </tr>\n",
              "    <tr>\n",
              "      <th>1</th>\n",
              "      <td>2</td>\n",
              "      <td>0</td>\n",
              "      <td>1</td>\n",
              "      <td>2</td>\n",
              "      <td>0</td>\n",
              "      <td>1</td>\n",
              "      <td>2.0</td>\n",
              "      <td>2.000000</td>\n",
              "      <td>3.250000</td>\n",
              "      <td>2.625000</td>\n",
              "      <td>2.534091</td>\n",
              "      <td>2.901515</td>\n",
              "      <td>2.686869</td>\n",
              "      <td>2.666246</td>\n",
              "      <td>2</td>\n",
              "      <td>0</td>\n",
              "      <td>0</td>\n",
              "      <td>1</td>\n",
              "      <td>37</td>\n",
              "      <td>5</td>\n",
              "      <td>19</td>\n",
              "      <td>4</td>\n",
              "    </tr>\n",
              "    <tr>\n",
              "      <th>2</th>\n",
              "      <td>1</td>\n",
              "      <td>1</td>\n",
              "      <td>0</td>\n",
              "      <td>3</td>\n",
              "      <td>1</td>\n",
              "      <td>5</td>\n",
              "      <td>1.0</td>\n",
              "      <td>2.333333</td>\n",
              "      <td>3.833333</td>\n",
              "      <td>3.083333</td>\n",
              "      <td>2.840909</td>\n",
              "      <td>3.348485</td>\n",
              "      <td>3.090909</td>\n",
              "      <td>3.088384</td>\n",
              "      <td>1</td>\n",
              "      <td>1</td>\n",
              "      <td>1</td>\n",
              "      <td>0</td>\n",
              "      <td>28</td>\n",
              "      <td>9</td>\n",
              "      <td>18</td>\n",
              "      <td>2</td>\n",
              "    </tr>\n",
              "    <tr>\n",
              "      <th>3</th>\n",
              "      <td>2</td>\n",
              "      <td>1</td>\n",
              "      <td>1</td>\n",
              "      <td>2</td>\n",
              "      <td>1</td>\n",
              "      <td>4</td>\n",
              "      <td>3.0</td>\n",
              "      <td>4.666667</td>\n",
              "      <td>4.666667</td>\n",
              "      <td>4.666667</td>\n",
              "      <td>4.666667</td>\n",
              "      <td>4.444444</td>\n",
              "      <td>4.592593</td>\n",
              "      <td>4.617284</td>\n",
              "      <td>2</td>\n",
              "      <td>1</td>\n",
              "      <td>1</td>\n",
              "      <td>1</td>\n",
              "      <td>45</td>\n",
              "      <td>9</td>\n",
              "      <td>23</td>\n",
              "      <td>2</td>\n",
              "    </tr>\n",
              "    <tr>\n",
              "      <th>4</th>\n",
              "      <td>1</td>\n",
              "      <td>1</td>\n",
              "      <td>1</td>\n",
              "      <td>2</td>\n",
              "      <td>1</td>\n",
              "      <td>4</td>\n",
              "      <td>3.0</td>\n",
              "      <td>3.666667</td>\n",
              "      <td>5.916667</td>\n",
              "      <td>4.791667</td>\n",
              "      <td>3.852273</td>\n",
              "      <td>5.037879</td>\n",
              "      <td>4.560606</td>\n",
              "      <td>4.637626</td>\n",
              "      <td>1</td>\n",
              "      <td>1</td>\n",
              "      <td>1</td>\n",
              "      <td>1</td>\n",
              "      <td>28</td>\n",
              "      <td>11</td>\n",
              "      <td>23</td>\n",
              "      <td>2</td>\n",
              "    </tr>\n",
              "  </tbody>\n",
              "</table>\n",
              "</div>"
            ],
            "text/plain": [
              "   X1  X2  X3  X4  X5  ...  NhomTuoiKH  X1_tmp  X2_tmp  X3_tmp  X5_tmp\n",
              "0   3   0   0   2   1  ...           0      47       7      18       2\n",
              "1   2   0   1   2   0  ...           1      37       5      19       4\n",
              "2   1   1   0   3   1  ...           0      28       9      18       2\n",
              "3   2   1   1   2   1  ...           1      45       9      23       2\n",
              "4   1   1   1   2   1  ...           1      28      11      23       2\n",
              "\n",
              "[5 rows x 22 columns]"
            ]
          },
          "metadata": {
            "tags": []
          },
          "execution_count": 30
        }
      ]
    },
    {
      "cell_type": "code",
      "metadata": {
        "id": "qwYZ1cJG9oxi"
      },
      "source": [
        "df02 = pd.DataFrame(df,columns=['X1','X2','X3','X4','X5','X6','X7','J1','J2','J3','J4','J5','J6','K1'])"
      ],
      "execution_count": 31,
      "outputs": []
    },
    {
      "cell_type": "code",
      "metadata": {
        "colab": {
          "base_uri": "https://localhost:8080/",
          "height": 205
        },
        "id": "pIyPgHeS-jGR",
        "outputId": "61231f93-b764-4c08-b751-a58eb6d7c105"
      },
      "source": [
        "df02.head()"
      ],
      "execution_count": 32,
      "outputs": [
        {
          "output_type": "execute_result",
          "data": {
            "text/html": [
              "<div>\n",
              "<style scoped>\n",
              "    .dataframe tbody tr th:only-of-type {\n",
              "        vertical-align: middle;\n",
              "    }\n",
              "\n",
              "    .dataframe tbody tr th {\n",
              "        vertical-align: top;\n",
              "    }\n",
              "\n",
              "    .dataframe thead th {\n",
              "        text-align: right;\n",
              "    }\n",
              "</style>\n",
              "<table border=\"1\" class=\"dataframe\">\n",
              "  <thead>\n",
              "    <tr style=\"text-align: right;\">\n",
              "      <th></th>\n",
              "      <th>X1</th>\n",
              "      <th>X2</th>\n",
              "      <th>X3</th>\n",
              "      <th>X4</th>\n",
              "      <th>X5</th>\n",
              "      <th>X6</th>\n",
              "      <th>X7</th>\n",
              "      <th>J1</th>\n",
              "      <th>J2</th>\n",
              "      <th>J3</th>\n",
              "      <th>J4</th>\n",
              "      <th>J5</th>\n",
              "      <th>J6</th>\n",
              "      <th>K1</th>\n",
              "    </tr>\n",
              "  </thead>\n",
              "  <tbody>\n",
              "    <tr>\n",
              "      <th>0</th>\n",
              "      <td>3</td>\n",
              "      <td>0</td>\n",
              "      <td>0</td>\n",
              "      <td>2</td>\n",
              "      <td>1</td>\n",
              "      <td>4</td>\n",
              "      <td>2.0</td>\n",
              "      <td>3.250000</td>\n",
              "      <td>4.812500</td>\n",
              "      <td>4.031250</td>\n",
              "      <td>3.463068</td>\n",
              "      <td>3.926136</td>\n",
              "      <td>3.806818</td>\n",
              "      <td>3.881629</td>\n",
              "    </tr>\n",
              "    <tr>\n",
              "      <th>1</th>\n",
              "      <td>2</td>\n",
              "      <td>0</td>\n",
              "      <td>1</td>\n",
              "      <td>2</td>\n",
              "      <td>0</td>\n",
              "      <td>1</td>\n",
              "      <td>2.0</td>\n",
              "      <td>2.000000</td>\n",
              "      <td>3.250000</td>\n",
              "      <td>2.625000</td>\n",
              "      <td>2.534091</td>\n",
              "      <td>2.901515</td>\n",
              "      <td>2.686869</td>\n",
              "      <td>2.666246</td>\n",
              "    </tr>\n",
              "    <tr>\n",
              "      <th>2</th>\n",
              "      <td>1</td>\n",
              "      <td>1</td>\n",
              "      <td>0</td>\n",
              "      <td>3</td>\n",
              "      <td>1</td>\n",
              "      <td>5</td>\n",
              "      <td>1.0</td>\n",
              "      <td>2.333333</td>\n",
              "      <td>3.833333</td>\n",
              "      <td>3.083333</td>\n",
              "      <td>2.840909</td>\n",
              "      <td>3.348485</td>\n",
              "      <td>3.090909</td>\n",
              "      <td>3.088384</td>\n",
              "    </tr>\n",
              "    <tr>\n",
              "      <th>3</th>\n",
              "      <td>2</td>\n",
              "      <td>1</td>\n",
              "      <td>1</td>\n",
              "      <td>2</td>\n",
              "      <td>1</td>\n",
              "      <td>4</td>\n",
              "      <td>3.0</td>\n",
              "      <td>4.666667</td>\n",
              "      <td>4.666667</td>\n",
              "      <td>4.666667</td>\n",
              "      <td>4.666667</td>\n",
              "      <td>4.444444</td>\n",
              "      <td>4.592593</td>\n",
              "      <td>4.617284</td>\n",
              "    </tr>\n",
              "    <tr>\n",
              "      <th>4</th>\n",
              "      <td>1</td>\n",
              "      <td>1</td>\n",
              "      <td>1</td>\n",
              "      <td>2</td>\n",
              "      <td>1</td>\n",
              "      <td>4</td>\n",
              "      <td>3.0</td>\n",
              "      <td>3.666667</td>\n",
              "      <td>5.916667</td>\n",
              "      <td>4.791667</td>\n",
              "      <td>3.852273</td>\n",
              "      <td>5.037879</td>\n",
              "      <td>4.560606</td>\n",
              "      <td>4.637626</td>\n",
              "    </tr>\n",
              "  </tbody>\n",
              "</table>\n",
              "</div>"
            ],
            "text/plain": [
              "   X1  X2  X3  X4  X5  ...        J3        J4        J5        J6        K1\n",
              "0   3   0   0   2   1  ...  4.031250  3.463068  3.926136  3.806818  3.881629\n",
              "1   2   0   1   2   0  ...  2.625000  2.534091  2.901515  2.686869  2.666246\n",
              "2   1   1   0   3   1  ...  3.083333  2.840909  3.348485  3.090909  3.088384\n",
              "3   2   1   1   2   1  ...  4.666667  4.666667  4.444444  4.592593  4.617284\n",
              "4   1   1   1   2   1  ...  4.791667  3.852273  5.037879  4.560606  4.637626\n",
              "\n",
              "[5 rows x 14 columns]"
            ]
          },
          "metadata": {
            "tags": []
          },
          "execution_count": 32
        }
      ]
    },
    {
      "cell_type": "code",
      "metadata": {
        "id": "fzRTJur0Bbsj"
      },
      "source": [
        "\n",
        "tencot = df02.columns\n",
        "df02.columns = list_ten"
      ],
      "execution_count": 33,
      "outputs": []
    },
    {
      "cell_type": "code",
      "metadata": {
        "colab": {
          "base_uri": "https://localhost:8080/",
          "height": 868
        },
        "id": "uH4XAbJxAUGW",
        "outputId": "bdd0292f-0b6a-47a0-e2fa-c2d295941a49"
      },
      "source": [
        "plt.figure(figsize=(16,12))\n",
        "sns.heatmap(data=df02.corr(),annot=True,fmt='.2f',cmap='coolwarm')\n",
        "plt.show()"
      ],
      "execution_count": 34,
      "outputs": [
        {
          "output_type": "display_data",
          "data": {
            "image/png": "[encoded data removed]",
            "text/plain": [
              "<Figure size 1152x864 with 2 Axes>"
            ]
          },
          "metadata": {
            "tags": [],
            "needs_background": "light"
          }
        }
      ]
    },
    {
      "cell_type": "code",
      "metadata": {
        "id": "FvazRiCzFaS6"
      },
      "source": [
        "df03 = pd.DataFrame(df,columns=['X1','X2','X3','X4','X5','X6','X7'])"
      ],
      "execution_count": 36,
      "outputs": []
    },
    {
      "cell_type": "code",
      "metadata": {
        "colab": {
          "base_uri": "https://localhost:8080/",
          "height": 707
        },
        "id": "vnW_VNo6Ff7j",
        "outputId": "2ff2f54d-a481-45a0-dd71-d9565fb8b61d"
      },
      "source": [
        "plt.figure(figsize=(16,12))\n",
        "sns.heatmap(data=df03.corr(),annot=True,fmt='.2f',cmap='coolwarm')\n",
        "plt.show()"
      ],
      "execution_count": 38,
      "outputs": [
        {
          "output_type": "display_data",
          "data": {
            "image/png": "[encoded data removed]",
            "text/plain": [
              "<Figure size 1152x864 with 2 Axes>"
            ]
          },
          "metadata": {
            "tags": [],
            "needs_background": "light"
          }
        }
      ]
    },
    {
      "cell_type": "code",
      "metadata": {
        "colab": {
          "base_uri": "https://localhost:8080/"
        },
        "id": "FQ15kiXpGQN5",
        "outputId": "905ce864-505b-40a3-f990-5c0dfff6f6da"
      },
      "source": [
        "list_ten"
      ],
      "execution_count": 76,
      "outputs": [
        {
          "output_type": "execute_result",
          "data": {
            "text/plain": [
              "['TUỔI',\n",
              " 'HỌC VẤN',\n",
              " 'TUỔI KẾT HÔN',\n",
              " 'HÔN NHÂN',\n",
              " 'SỐ CON',\n",
              " 'NGHỀ NGHIỆP',\n",
              " 'THU NHẬP',\n",
              " 'TB QUYỀN QUYẾT ĐỊNH SẢN XUẤT',\n",
              " 'TB QUYẾT ĐỊNH TÍN DỤNG',\n",
              " 'TB QUYẾT ĐỊNH CHI TIÊU GIA ĐÌNH',\n",
              " 'TB QUYỀN SỞ HỮU TÀI SẢN',\n",
              " 'TB QUYỀN THAM GIA XÃ HỘI',\n",
              " 'TB QUYỀN SD THỜI GIAN',\n",
              " 'TB BẤT BĐ GIỚI']"
            ]
          },
          "metadata": {
            "tags": []
          },
          "execution_count": 76
        }
      ]
    },
    {
      "cell_type": "code",
      "metadata": {
        "id": "z0lEJJ8SGUxm"
      },
      "source": [
        "ten =['TUỔI','HỌC VẤN','TUỔI KẾT HÔN','HÔN NHÂN','SỐ CON','NGHỀ NGHIỆP', 'THU NHẬP']"
      ],
      "execution_count": 35,
      "outputs": []
    },
    {
      "cell_type": "code",
      "metadata": {
        "id": "2g8I5FsZGc3W"
      },
      "source": [
        "df03.columns = ten"
      ],
      "execution_count": 37,
      "outputs": []
    },
    {
      "cell_type": "markdown",
      "metadata": {
        "id": "_A-zNJVcyAAE"
      },
      "source": [
        "%\n",
        "% a1=pd.crosstab(df1.A09, df1.A14).plot(kind='bar')\n",
        "% a2=pd.crosstab(df1.A05, df1.A15)\n",
        "% a2.plot(kind='bar')\n",
        "% a2.plot.bar(figsize=(12,5), stacked=True)\n",
        "% a3=df['A2']\n",
        "% df.groupby(['A2']).count()\n",
        "% df_csv2= df[['A01','A10','BTB']]\n",
        "% df_csv2.describe()\n",
        "% a2=pd.crosstab(df['A10'], df['BTB']).plot(kind='bar')\n",
        "% plt.figure(figsize=(12,8)) \n",
        "% sns.heatmap(a2, annot=True, cmap=\"YlGnBu\")\n",
        "\n",
        "%# Chi-square test of independence. \n",
        "% c, p, dof, expected = chi2_contingency(a2) \n",
        "% Print the p-value\n",
        "% print('p = ',p)\n",
        "% print('c = ',c)\n",
        "% print('dof = ',dof)\n",
        "% print('expected = ',expected)#\n",
        "\n",
        "% # Chi-square test of independence. \n",
        "% c, p, dof, expected = chi2_contingency(a4) \n",
        "% Print the p-value\n",
        "% print('p = ',p)\n",
        "% print('c = ',c)\n",
        "% print('dof = ',dof)\n",
        "% print('expected = ',expected)\n",
        "\n",
        "% import scipy.stats as stats\n",
        "% # Perform the ANOVA\n",
        "% stats.f_oneway(Mot, Hai, Ba, Bon, Nam, Sau)\n",
        "\n",
        "% import statsmodels.api as sm\n",
        "% from statsmodels.formula.api import ols\n",
        "\n",
        "% model = ols('A13 ~ BTB',data = df_csv3).fit() # Model formula\n",
        "                \n",
        "% anova_result = sm.stats.anova_lm(model, typ=2)\n",
        "% print (anova_result)\n",
        "% model.summary()"
      ]
    },
    {
      "cell_type": "code",
      "metadata": {
        "id": "nCnerFtaOS88"
      },
      "source": [
        "from sklearn.model_selection import train_test_split\n",
        "from sklearn.linear_model import LinearRegression\n",
        "from sklearn.metrics import mean_squared_error, mean_squared_log_error"
      ],
      "execution_count": 39,
      "outputs": []
    },
    {
      "cell_type": "code",
      "metadata": {
        "id": "Mbuuz_KuuIXy"
      },
      "source": [
        "train, test = train_test_split(df02, test_size=0.3, shuffle=True)\n",
        "training_features = ['TUỔI','HỌC VẤN','TUỔI KẾT HÔN','HÔN NHÂN','SỐ CON','NGHỀ NGHIỆP', 'THU NHẬP']\n",
        "target = 'TB BẤT BĐ GIỚI'\n",
        "train_X = train[training_features]\n",
        "train_Y = train[target]\n",
        "test_X = test[training_features]\n",
        "test_Y = test[target]"
      ],
      "execution_count": 40,
      "outputs": []
    },
    {
      "cell_type": "code",
      "metadata": {
        "colab": {
          "base_uri": "https://localhost:8080/"
        },
        "id": "k6KVhtOnOqtn",
        "outputId": "d4140d85-6f5e-49ac-d5d6-88ca06339ea0"
      },
      "source": [
        "model = LinearRegression()\n",
        "model.fit(train_X, train_Y)\n",
        "train_pred_Y = model.predict(train_X)\n",
        "test_pred_Y = model.predict(test_X)\n",
        "train_pred_Y = pd.Series(train_pred_Y.clip(0, train_pred_Y.max()), index=train_Y.index)\n",
        "test_pred_Y = pd.Series(test_pred_Y.clip(0, test_pred_Y.max()), index=test_Y.index)\n",
        "\n",
        "rmse_train = np.sqrt(mean_squared_error(train_pred_Y, train_Y))\n",
        "msle_train = mean_squared_log_error(train_pred_Y, train_Y)\n",
        "rmse_test = np.sqrt(mean_squared_error(test_pred_Y, test_Y))\n",
        "msle_test = mean_squared_log_error(test_pred_Y, test_Y)\n",
        "\n",
        "print('rmse_train:',rmse_train,'msle_train:',msle_train)\n",
        "print('rmse_test:',rmse_test,'msle_test:',msle_test)"
      ],
      "execution_count": 41,
      "outputs": [
        {
          "output_type": "stream",
          "text": [
            "rmse_train: 0.5461644281046123 msle_train: 0.012233367338427168\n",
            "rmse_test: 0.5264709840267249 msle_test: 0.011268473151833245\n"
          ],
          "name": "stdout"
        }
      ]
    },
    {
      "cell_type": "code",
      "metadata": {
        "colab": {
          "base_uri": "https://localhost:8080/",
          "height": 552
        },
        "id": "A87KRh6wPTII",
        "outputId": "a2fc21d9-23c2-4adf-ab6c-b723412c6d32"
      },
      "source": [
        "from statsmodels.api import OLS\n",
        "\n",
        "training_features = ['TUỔI','HỌC VẤN','TUỔI KẾT HÔN','HÔN NHÂN','SỐ CON','NGHỀ NGHIỆP', 'THU NHẬP']\n",
        "target = 'TB BẤT BĐ GIỚI'\n",
        "train_X = df02[training_features]\n",
        "train_Y = df02[target]\n",
        "OLS(train_Y,train_X).fit().summary()"
      ],
      "execution_count": 43,
      "outputs": [
        {
          "output_type": "execute_result",
          "data": {
            "text/html": [
              "<table class=\"simpletable\">\n",
              "<caption>OLS Regression Results</caption>\n",
              "<tr>\n",
              "  <th>Dep. Variable:</th>     <td>TB BẤT BĐ GIỚI</td>  <th>  R-squared (uncentered):</th>      <td>   0.973</td>\n",
              "</tr>\n",
              "<tr>\n",
              "  <th>Model:</th>                   <td>OLS</td>       <th>  Adj. R-squared (uncentered):</th> <td>   0.972</td>\n",
              "</tr>\n",
              "<tr>\n",
              "  <th>Method:</th>             <td>Least Squares</td>  <th>  F-statistic:       </th>          <td>   6902.</td>\n",
              "</tr>\n",
              "<tr>\n",
              "  <th>Date:</th>             <td>Tue, 10 Aug 2021</td> <th>  Prob (F-statistic):</th>           <td>  0.00</td> \n",
              "</tr>\n",
              "<tr>\n",
              "  <th>Time:</th>                 <td>07:08:37</td>     <th>  Log-Likelihood:    </th>          <td> -1361.0</td>\n",
              "</tr>\n",
              "<tr>\n",
              "  <th>No. Observations:</th>      <td>  1370</td>      <th>  AIC:               </th>          <td>   2736.</td>\n",
              "</tr>\n",
              "<tr>\n",
              "  <th>Df Residuals:</th>          <td>  1363</td>      <th>  BIC:               </th>          <td>   2772.</td>\n",
              "</tr>\n",
              "<tr>\n",
              "  <th>Df Model:</th>              <td>     7</td>      <th>                     </th>              <td> </td>   \n",
              "</tr>\n",
              "<tr>\n",
              "  <th>Covariance Type:</th>      <td>nonrobust</td>    <th>                     </th>              <td> </td>   \n",
              "</tr>\n",
              "</table>\n",
              "<table class=\"simpletable\">\n",
              "<tr>\n",
              "        <td></td>          <th>coef</th>     <th>std err</th>      <th>t</th>      <th>P>|t|</th>  <th>[0.025</th>    <th>0.975]</th>  \n",
              "</tr>\n",
              "<tr>\n",
              "  <th>TUỔI</th>         <td>    0.1637</td> <td>    0.029</td> <td>    5.711</td> <td> 0.000</td> <td>    0.107</td> <td>    0.220</td>\n",
              "</tr>\n",
              "<tr>\n",
              "  <th>HỌC VẤN</th>      <td>    0.2719</td> <td>    0.047</td> <td>    5.784</td> <td> 0.000</td> <td>    0.180</td> <td>    0.364</td>\n",
              "</tr>\n",
              "<tr>\n",
              "  <th>TUỔI KẾT HÔN</th> <td>   -0.2711</td> <td>    0.044</td> <td>   -6.175</td> <td> 0.000</td> <td>   -0.357</td> <td>   -0.185</td>\n",
              "</tr>\n",
              "<tr>\n",
              "  <th>HÔN NHÂN</th>     <td>    0.6112</td> <td>    0.034</td> <td>   17.806</td> <td> 0.000</td> <td>    0.544</td> <td>    0.679</td>\n",
              "</tr>\n",
              "<tr>\n",
              "  <th>SỐ CON</th>       <td>   -0.0147</td> <td>    0.048</td> <td>   -0.304</td> <td> 0.761</td> <td>   -0.110</td> <td>    0.080</td>\n",
              "</tr>\n",
              "<tr>\n",
              "  <th>NGHỀ NGHIỆP</th>  <td>    0.3579</td> <td>    0.014</td> <td>   25.281</td> <td> 0.000</td> <td>    0.330</td> <td>    0.386</td>\n",
              "</tr>\n",
              "<tr>\n",
              "  <th>THU NHẬP</th>     <td>    0.4549</td> <td>    0.035</td> <td>   12.857</td> <td> 0.000</td> <td>    0.385</td> <td>    0.524</td>\n",
              "</tr>\n",
              "</table>\n",
              "<table class=\"simpletable\">\n",
              "<tr>\n",
              "  <th>Omnibus:</th>       <td>32.885</td> <th>  Durbin-Watson:     </th> <td>   2.309</td>\n",
              "</tr>\n",
              "<tr>\n",
              "  <th>Prob(Omnibus):</th> <td> 0.000</td> <th>  Jarque-Bera (JB):  </th> <td>  71.757</td>\n",
              "</tr>\n",
              "<tr>\n",
              "  <th>Skew:</th>          <td> 0.002</td> <th>  Prob(JB):          </th> <td>2.62e-16</td>\n",
              "</tr>\n",
              "<tr>\n",
              "  <th>Kurtosis:</th>      <td> 4.121</td> <th>  Cond. No.          </th> <td>    17.0</td>\n",
              "</tr>\n",
              "</table><br/><br/>Warnings:<br/>[1] Standard Errors assume that the covariance matrix of the errors is correctly specified."
            ],
            "text/plain": [
              "<class 'statsmodels.iolib.summary.Summary'>\n",
              "\"\"\"\n",
              "                                 OLS Regression Results                                \n",
              "=======================================================================================\n",
              "Dep. Variable:         TB BẤT BĐ GIỚI   R-squared (uncentered):                   0.973\n",
              "Model:                            OLS   Adj. R-squared (uncentered):              0.972\n",
              "Method:                 Least Squares   F-statistic:                              6902.\n",
              "Date:                Tue, 10 Aug 2021   Prob (F-statistic):                        0.00\n",
              "Time:                        07:08:37   Log-Likelihood:                         -1361.0\n",
              "No. Observations:                1370   AIC:                                      2736.\n",
              "Df Residuals:                    1363   BIC:                                      2772.\n",
              "Df Model:                           7                                                  \n",
              "Covariance Type:            nonrobust                                                  \n",
              "================================================================================\n",
              "                   coef    std err          t      P>|t|      [0.025      0.975]\n",
              "--------------------------------------------------------------------------------\n",
              "TUỔI             0.1637      0.029      5.711      0.000       0.107       0.220\n",
              "HỌC VẤN          0.2719      0.047      5.784      0.000       0.180       0.364\n",
              "TUỔI KẾT HÔN    -0.2711      0.044     -6.175      0.000      -0.357      -0.185\n",
              "HÔN NHÂN         0.6112      0.034     17.806      0.000       0.544       0.679\n",
              "SỐ CON          -0.0147      0.048     -0.304      0.761      -0.110       0.080\n",
              "NGHỀ NGHIỆP      0.3579      0.014     25.281      0.000       0.330       0.386\n",
              "THU NHẬP         0.4549      0.035     12.857      0.000       0.385       0.524\n",
              "==============================================================================\n",
              "Omnibus:                       32.885   Durbin-Watson:                   2.309\n",
              "Prob(Omnibus):                  0.000   Jarque-Bera (JB):               71.757\n",
              "Skew:                           0.002   Prob(JB):                     2.62e-16\n",
              "Kurtosis:                       4.121   Cond. No.                         17.0\n",
              "==============================================================================\n",
              "\n",
              "Warnings:\n",
              "[1] Standard Errors assume that the covariance matrix of the errors is correctly specified.\n",
              "\"\"\""
            ]
          },
          "metadata": {
            "tags": []
          },
          "execution_count": 43
        }
      ]
    },
    {
      "cell_type": "code",
      "metadata": {
        "colab": {
          "base_uri": "https://localhost:8080/",
          "height": 325
        },
        "id": "JVRAQMhJBKMB",
        "outputId": "9f5ae436-04b4-48eb-addd-a911ddbb4712"
      },
      "source": [
        "plt.scatter(test_Y, test_pred_Y, color='r')\n",
        "\n",
        "plt.xlabel(\"Các biến độc lập: $Y_i$\")\n",
        "plt.ylabel(\"TB BẤT BĐ GIỚI: $\\hat{Y}_i$\")\n",
        "plt.title(\"BẤT BĐ GIỚI: $Y_i$ vs $\\hat{Y}_i$\")"
      ],
      "execution_count": 49,
      "outputs": [
        {
          "output_type": "execute_result",
          "data": {
            "text/plain": [
              "Text(0.5, 1.0, 'BẤT BĐ GIỚI: $Y_i$ vs $\\\\hat{Y}_i$')"
            ]
          },
          "metadata": {
            "tags": []
          },
          "execution_count": 49
        },
        {
          "output_type": "display_data",
          "data": {
            "image/png": "[encoded data removed]",
            "text/plain": [
              "<Figure size 432x288 with 1 Axes>"
            ]
          },
          "metadata": {
            "tags": [],
            "needs_background": "light"
          }
        }
      ]
    },
    {
      "cell_type": "code",
      "metadata": {
        "colab": {
          "base_uri": "https://localhost:8080/",
          "height": 298
        },
        "id": "oRFvlY8_GeNK",
        "outputId": "afb5f5da-ebff-487e-b881-19ea72d8b1ac"
      },
      "source": [
        "sns.scatterplot(data=df02, x=test_Y, y=test_pred_Y, hue=\"HÔN NHÂN\", size=\"THU NHẬP\",  sizes=(20, 200), legend=\"full\")\n",
        "#style=\"HỌC VẤN\"\n",
        "#size=\"size\""
      ],
      "execution_count": 54,
      "outputs": [
        {
          "output_type": "execute_result",
          "data": {
            "text/plain": [
              "<matplotlib.axes._subplots.AxesSubplot at 0x7f5bee9c9a90>"
            ]
          },
          "metadata": {
            "tags": []
          },
          "execution_count": 54
        },
        {
          "output_type": "display_data",
          "data": {
            "image/png": "[encoded data removed]",
            "text/plain": [
              "<Figure size 432x288 with 1 Axes>"
            ]
          },
          "metadata": {
            "tags": [],
            "needs_background": "light"
          }
        }
      ]
    },
    {
      "cell_type": "code",
      "metadata": {
        "colab": {
          "base_uri": "https://localhost:8080/",
          "height": 607
        },
        "id": "ElTslAEaJLSp",
        "outputId": "a8702d7a-e12c-42f6-fb35-bdb9ce0afbc9"
      },
      "source": [
        "# Change default palette\n",
        "#sns.set_palette('rainbow')\n",
        "sns.set_style(\"whitegrid\")\n",
        "plt.figure(figsize=(15, 10))\n",
        "sns.set_palette(['green', 'purple', 'red'])\n",
        "#sns.color_palette(\"rocket_r\", as_cmap=True)\n",
        "sns.scatterplot(data=df02, x=test_Y, y=test_pred_Y, alpha=0.7, hue='HÔN NHÂN', size='THU NHẬP')\n",
        "plt.legend(loc='upper right', bbox_to_anchor=(1.2, 1));"
      ],
      "execution_count": 76,
      "outputs": [
        {
          "output_type": "display_data",
          "data": {
            "image/png": "[encoded data removed]",
            "text/plain": [
              "<Figure size 1080x720 with 1 Axes>"
            ]
          },
          "metadata": {
            "tags": []
          }
        }
      ]
    },
    {
      "cell_type": "code",
      "metadata": {
        "id": "E3wGE4fsO3uQ"
      },
      "source": [
        "current_palette = sns.color_palette()"
      ],
      "execution_count": 72,
      "outputs": []
    },
    {
      "cell_type": "code",
      "metadata": {
        "colab": {
          "base_uri": "https://localhost:8080/",
          "height": 85
        },
        "id": "Bfua5klsO7FF",
        "outputId": "29ab4920-4161-48ff-d988-7a693d2cf58e"
      },
      "source": [
        "sns.palplot(current_palette)\n",
        "plt.show()"
      ],
      "execution_count": 73,
      "outputs": [
        {
          "output_type": "display_data",
          "data": {
            "image/png": "[encoded data removed]",
            "text/plain": [
              "<Figure size 216x72 with 1 Axes>"
            ]
          },
          "metadata": {
            "tags": []
          }
        }
      ]
    },
    {
      "cell_type": "code",
      "metadata": {
        "colab": {
          "base_uri": "https://localhost:8080/",
          "height": 85
        },
        "id": "PxaDiMUnPPHp",
        "outputId": "12667a65-49f5-47f3-d971-ea61497f04c0"
      },
      "source": [
        "sns.palplot(sns.color_palette())"
      ],
      "execution_count": 74,
      "outputs": [
        {
          "output_type": "display_data",
          "data": {
            "image/png": "[encoded data removed]",
            "text/plain": [
              "<Figure size 216x72 with 1 Axes>"
            ]
          },
          "metadata": {
            "tags": []
          }
        }
      ]
    },
    {
      "cell_type": "code",
      "metadata": {
        "id": "3T8AEfC2Py6b"
      },
      "source": [
        "sns.set_palette(['#62C370', '#FFD166', '#EF476F'])"
      ],
      "execution_count": 77,
      "outputs": []
    },
    {
      "cell_type": "code",
      "metadata": {
        "colab": {
          "base_uri": "https://localhost:8080/",
          "height": 607
        },
        "id": "Z5UwN85vP4BG",
        "outputId": "759045f4-f925-4b4d-d870-13a2ae000258"
      },
      "source": [
        "plt.figure(figsize=(15, 10))\n",
        "sns.scatterplot(data=df02, x=test_Y, y=test_pred_Y, alpha=0.7, hue='HÔN NHÂN', size='THU NHẬP')\n",
        "plt.legend(loc='upper right', bbox_to_anchor=(1.2, 1));"
      ],
      "execution_count": 78,
      "outputs": [
        {
          "output_type": "display_data",
          "data": {
            "image/png": "[encoded data removed]",
            "text/plain": [
              "<Figure size 1080x720 with 1 Axes>"
            ]
          },
          "metadata": {
            "tags": []
          }
        }
      ]
    }
  ]
}